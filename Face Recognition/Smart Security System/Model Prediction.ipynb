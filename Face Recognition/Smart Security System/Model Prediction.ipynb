{
 "cells": [
  {
   "cell_type": "code",
   "execution_count": null,
   "metadata": {},
   "outputs": [],
   "source": [
    "import os\n",
    "import cv2\n",
    "import pickle\n",
    "\n",
    "from imutils import paths\n",
    "import face_recognition"
   ]
  },
  {
   "cell_type": "code",
   "execution_count": null,
   "metadata": {},
   "outputs": [],
   "source": [
    "testing_dataset = \"dataset/testing\""
   ]
  },
  {
   "cell_type": "code",
   "execution_count": null,
   "metadata": {},
   "outputs": [],
   "source": [
    "# find path of xml file containing haarcascade file\n",
    "cascPathface = os.path.dirname(\n",
    " cv2.__file__) + \"/data/haarcascade_frontalface_alt2.xml\"\n",
    "# load the harcaascade in the cascade classifier\n",
    "faceCascade = cv2.CascadeClassifier(cascPathface)\n",
    "# load the known faces and embeddings saved earlier\n",
    "data = pickle.loads(open('face_enc_live', \"rb\").read())"
   ]
  },
  {
   "cell_type": "code",
   "execution_count": null,
   "metadata": {},
   "outputs": [],
   "source": [
    "def identify_face(image):\n",
    "    rgb = cv2.cvtColor(image, cv2.COLOR_BGR2RGB)\n",
    "    #convert image to Greyscale for haarcascade\n",
    "    gray = cv2.cvtColor(image, cv2.COLOR_BGR2GRAY)\n",
    "    faces = faceCascade.detectMultiScale(gray,\n",
    "                                         scaleFactor=1.1,\n",
    "                                         minNeighbors=5,\n",
    "                                         minSize=(60, 60),\n",
    "                                         flags=cv2.CASCADE_SCALE_IMAGE)\n",
    "    \n",
    "    encodings = face_recognition.face_encodings(rgb)\n",
    "\n",
    "    if len(encodings) > 1:\n",
    "        print(\"Found more than one encoding. Most likely, the image has multiple faces\")\n",
    "        return None, None\n",
    "    elif len(encodings) == 0:\n",
    "        print(\"No encoding match found for the given face.\")\n",
    "        return None, None\n",
    "    \n",
    "    names = []\n",
    "    matches = face_recognition.compare_faces(data[\"encodings\"], encodings[0])\n",
    "\n",
    "    if True in matches:\n",
    "        #Find positions at which we get True and store them\n",
    "        matchedIdxs = [i for (i, b) in enumerate(matches) if b]\n",
    "        counts = {}\n",
    "        # loop over the matched indexes and maintain a count for\n",
    "        # each recognized face face\n",
    "        for i in matchedIdxs:\n",
    "            #Check the names at respective indexes we stored in matchedIdxs\n",
    "            name = data[\"names\"][i]\n",
    "            #increase count for the name we got\n",
    "            counts[name] = counts.get(name, 0) + 1\n",
    "            #set name which has highest count\n",
    "            name = max(counts, key=counts.get)\n",
    "\n",
    "\n",
    "        # update the list of names\n",
    "        names.append(name)\n",
    "        if len(names) > 1:\n",
    "            print(\"Found more than one match for facial encoding\")\n",
    "            return None, None\n",
    "        \n",
    "        # loop over the recognized faces\n",
    "        for ((x, y, w, h), name) in zip(faces, names):\n",
    "            # rescale the face coordinates\n",
    "            # draw the predicted face name on the image\n",
    "            cv2.rectangle(image, (x, y), (x + w, y + h), (0, 255, 0), 2)\n",
    "            cv2.putText(image, name, (x, y), cv2.FONT_HERSHEY_SIMPLEX,\n",
    "             0.75, (0, 255, 0), 2)\n",
    "    else:\n",
    "        print(\"No encoding matches found. Possibly a new face\")\n",
    "        return None, None\n",
    "#     cv2.imshow(\"Frame\", image)\n",
    "#     cv2.waitKey(0)\n",
    "    if len(names) == 0:\n",
    "        return None\n",
    "    return names[0], image"
   ]
  },
  {
   "cell_type": "markdown",
   "metadata": {},
   "source": [
    "Labels encoded"
   ]
  },
  {
   "cell_type": "code",
   "execution_count": null,
   "metadata": {},
   "outputs": [],
   "source": [
    "names = sorted(list(set(data['names'])))\n",
    "for name in names:\n",
    "    print(name, '\\n')"
   ]
  },
  {
   "cell_type": "code",
   "execution_count": null,
   "metadata": {},
   "outputs": [],
   "source": [
    "prediction_status = {'correct': 0, 'incorrect': 0, 'unidentified': 0}"
   ]
  },
  {
   "cell_type": "code",
   "execution_count": null,
   "metadata": {},
   "outputs": [],
   "source": [
    "# testing on validation dataset\n",
    "\n",
    "imagePaths = list(paths.list_images(testing_dataset))\n",
    "\n",
    "# loop over the image paths\n",
    "for (i, imagePath) in enumerate(imagePaths):\n",
    "    try:\n",
    "        name = imagePath.split(os.path.sep)[-2]\n",
    "    except ValueError:\n",
    "        name = \"Unknown\"\n",
    "    image = cv2.imread(imagePath)\n",
    "    pred_name, pred_image = identify_face(image)\n",
    "    if pred_name is None:\n",
    "        print(f\"Face could not be recognized for {imagePath.split(os.path.sep)[-1]}\")\n",
    "    else:\n",
    "        print(f\"Original face: {name}; Identified face: {pred_name}\")\n",
    "        if pred_name != name:\n",
    "            print(\"Wrong face match found.\")\n",
    "    if pred_name == name:\n",
    "        prediction_status['correct'] += 1\n",
    "    elif pred_name == None:\n",
    "        prediction_status['unidentified'] += 1\n",
    "    elif pred_name != name:\n",
    "        prediction_status['incorrect'] += 1\n",
    "    print()\n",
    "#     cv2.imshow(\"Frame\", pred_image)\n",
    "#     cv2.waitKey(0)"
   ]
  },
  {
   "cell_type": "code",
   "execution_count": null,
   "metadata": {},
   "outputs": [],
   "source": [
    "print(prediction_status)"
   ]
  },
  {
   "cell_type": "code",
   "execution_count": null,
   "metadata": {},
   "outputs": [],
   "source": []
  }
 ],
 "metadata": {
  "kernelspec": {
   "display_name": "Python 3",
   "language": "python",
   "name": "python3"
  },
  "language_info": {
   "codemirror_mode": {
    "name": "ipython",
    "version": 3
   },
   "file_extension": ".py",
   "mimetype": "text/x-python",
   "name": "python",
   "nbconvert_exporter": "python",
   "pygments_lexer": "ipython3",
   "version": "3.7.9"
  }
 },
 "nbformat": 4,
 "nbformat_minor": 4
}
