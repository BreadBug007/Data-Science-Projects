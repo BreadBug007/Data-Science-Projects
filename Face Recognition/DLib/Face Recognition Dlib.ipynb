{
 "cells": [
  {
   "cell_type": "code",
   "execution_count": null,
   "metadata": {},
   "outputs": [],
   "source": [
    "from imutils import paths\n",
    "import face_recognition\n",
    "import pickle\n",
    "import cv2\n",
    "import os"
   ]
  },
  {
   "cell_type": "markdown",
   "metadata": {},
   "source": [
    "### Extracting features"
   ]
  },
  {
   "cell_type": "raw",
   "metadata": {},
   "source": [
    "Dataset structure\n",
    "\n",
    "└───dataset\n",
    "    ├───testing\n",
    "    │   ├───0\n",
    "    │   ├───1\n",
    "    │   ├───2\n",
    "    │   ├───3\n",
    "    │   ├───4\n",
    "    │   ├───5\n",
    "    │   ├───6\n",
    "    │   └───7\n",
    "    └───training\n",
    "        ├───Arnold_Schwarzenegger\n",
    "        ├───Donald_Rumsfeld\n",
    "        ├───George_W_Bush\n",
    "        ├───Gerhard_Schroeder\n",
    "        ├───Hugo_Chavez\n",
    "        ├───Jacques_Chirac\n",
    "        ├───Tony_Blair\n",
    "        └───Vladimir_Putin"
   ]
  },
  {
   "cell_type": "code",
   "execution_count": null,
   "metadata": {},
   "outputs": [],
   "source": [
    "training_dataset = \"dataset/training\""
   ]
  },
  {
   "cell_type": "code",
   "execution_count": null,
   "metadata": {},
   "outputs": [],
   "source": [
    "# get paths of each file in folder named Images\n",
    "# Images here contains my data(folders of various persons)\n",
    "\n",
    "imagePaths = list(paths.list_images(training_dataset))\n",
    "knownEncodings = []\n",
    "knownNames = []\n",
    "\n",
    "# loop over the image paths\n",
    "for (i, imagePath) in enumerate(imagePaths):\n",
    "    # extract the person name from the image path\n",
    "    name = imagePath.split(os.path.sep)[-2]\n",
    "    # load the input image and convert it from BGR (OpenCV ordering)\n",
    "    # to dlib ordering (RGB)\n",
    "    image = cv2.imread(imagePath)\n",
    "    rgb = cv2.cvtColor(image, cv2.COLOR_BGR2RGB)\n",
    "    # Use Face_recognition to locate faces\n",
    "    boxes = face_recognition.face_locations(rgb,model='hog')\n",
    "    # compute the facial embedding for the face\n",
    "    encodings = face_recognition.face_encodings(rgb, boxes)\n",
    "    # loop over the encodings\n",
    "    for encoding in encodings:\n",
    "        knownEncodings.append(encoding)\n",
    "        knownNames.append(name)\n",
    "\n",
    "# save emcodings along with their names in dictionary data\n",
    "data = {\"encodings\": knownEncodings, \"names\": knownNames}\n",
    "# use pickle to save data into a file for later use\n",
    "f = open(\"face_enc\", \"wb\")\n",
    "f.write(pickle.dumps(data))\n",
    "f.close()"
   ]
  },
  {
   "cell_type": "markdown",
   "metadata": {},
   "source": [
    "### Face Recognition"
   ]
  },
  {
   "cell_type": "code",
   "execution_count": null,
   "metadata": {},
   "outputs": [],
   "source": [
    "testing_dataset = 'dataset/testing'"
   ]
  },
  {
   "cell_type": "code",
   "execution_count": null,
   "metadata": {},
   "outputs": [],
   "source": [
    "# find path of xml file containing haarcascade file\n",
    "cascPathface = os.path.dirname(\n",
    " cv2.__file__) + \"/data/haarcascade_frontalface_alt2.xml\"\n",
    "# load the harcaascade in the cascade classifier\n",
    "faceCascade = cv2.CascadeClassifier(cascPathface)\n",
    "# load the known faces and embeddings saved earlier\n",
    "data = pickle.loads(open('face_enc', \"rb\").read())"
   ]
  },
  {
   "cell_type": "code",
   "execution_count": null,
   "metadata": {},
   "outputs": [],
   "source": [
    "def identify_face(image):\n",
    "    rgb = cv2.cvtColor(image, cv2.COLOR_BGR2RGB)\n",
    "    #convert image to Greyscale for haarcascade\n",
    "    gray = cv2.cvtColor(image, cv2.COLOR_BGR2GRAY)\n",
    "    faces = faceCascade.detectMultiScale(gray,\n",
    "                                         scaleFactor=1.1,\n",
    "                                         minNeighbors=5,\n",
    "                                         minSize=(60, 60),\n",
    "                                         flags=cv2.CASCADE_SCALE_IMAGE)\n",
    "    \n",
    "    encodings = face_recognition.face_encodings(rgb)\n",
    "\n",
    "    if len(encodings) > 1:\n",
    "        print(\"Found more than one encoding. Most likely, the image has multiple faces\")\n",
    "        return None, None\n",
    "    \n",
    "    names = []\n",
    "    matches = face_recognition.compare_faces(data[\"encodings\"], encodings[0])\n",
    "\n",
    "    if True in matches:\n",
    "        #Find positions at which we get True and store them\n",
    "        matchedIdxs = [i for (i, b) in enumerate(matches) if b]\n",
    "        counts = {}\n",
    "        # loop over the matched indexes and maintain a count for\n",
    "        # each recognized face face\n",
    "        for i in matchedIdxs:\n",
    "            #Check the names at respective indexes we stored in matchedIdxs\n",
    "            name = data[\"names\"][i]\n",
    "            #increase count for the name we got\n",
    "            counts[name] = counts.get(name, 0) + 1\n",
    "            #set name which has highest count\n",
    "            name = max(counts, key=counts.get)\n",
    "\n",
    "\n",
    "        # update the list of names\n",
    "        names.append(name)\n",
    "        if len(names) > 1:\n",
    "            print(\"Found more than one match for facial encoding\")\n",
    "            return None, None\n",
    "        \n",
    "        # loop over the recognized faces\n",
    "        for ((x, y, w, h), name) in zip(faces, names):\n",
    "            # rescale the face coordinates\n",
    "            # draw the predicted face name on the image\n",
    "            cv2.rectangle(image, (x, y), (x + w, y + h), (0, 255, 0), 2)\n",
    "            cv2.putText(image, name, (x, y), cv2.FONT_HERSHEY_SIMPLEX,\n",
    "             0.75, (0, 255, 0), 2)\n",
    "    else:\n",
    "        print(\"No encoding matches found. Possibly a new face\")\n",
    "        return None, None\n",
    "#     cv2.imshow(\"Frame\", image)\n",
    "#     cv2.waitKey(0)\n",
    "    if len(names) == 0:\n",
    "        return None\n",
    "    return names[0], image"
   ]
  },
  {
   "cell_type": "code",
   "execution_count": null,
   "metadata": {},
   "outputs": [],
   "source": [
    "testing_mapping = {0: 'Arnold_Schwarzenegger', \n",
    "                   1: 'Donald_Rumsfeld', \n",
    "                   2: 'George_W_Bush', \n",
    "                   3: 'Gerhard_Schroeder', \n",
    "                   4: 'Hugo_Chavez', \n",
    "                   5: 'Jacques_Chirac', \n",
    "                   6: 'Tony_Blair', \n",
    "                   7: 'Vladimir_Putin'}"
   ]
  },
  {
   "cell_type": "code",
   "execution_count": null,
   "metadata": {},
   "outputs": [],
   "source": [
    "imagePaths = list(paths.list_images(testing_dataset))\n",
    "\n",
    "# loop over the image paths\n",
    "for (i, imagePath) in enumerate(imagePaths):\n",
    "    try:\n",
    "        name = testing_mapping[int(imagePath.split(os.path.sep)[-2])]\n",
    "    except ValueError:\n",
    "        name = \"Unknown\"\n",
    "    image = cv2.imread(imagePath)\n",
    "    pred_name, pred_image = identify_face(image)\n",
    "    if pred_name is None:\n",
    "        print(f\"Face could not be recognized for {imagePath.split(os.path.sep)[-1]}\\n\")\n",
    "    else:\n",
    "        print(f\"Original face: {name}; Identified face: {pred_name}\\n\")\n",
    "#     cv2.imshow(\"Frame\", pred_image)\n",
    "#     cv2.waitKey(0)"
   ]
  },
  {
   "cell_type": "code",
   "execution_count": null,
   "metadata": {},
   "outputs": [],
   "source": []
  }
 ],
 "metadata": {
  "kernelspec": {
   "display_name": "Python 3",
   "language": "python",
   "name": "python3"
  },
  "language_info": {
   "codemirror_mode": {
    "name": "ipython",
    "version": 3
   },
   "file_extension": ".py",
   "mimetype": "text/x-python",
   "name": "python",
   "nbconvert_exporter": "python",
   "pygments_lexer": "ipython3",
   "version": "3.7.9"
  }
 },
 "nbformat": 4,
 "nbformat_minor": 4
}
