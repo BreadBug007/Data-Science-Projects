{
 "cells": [
  {
   "cell_type": "markdown",
   "metadata": {},
   "source": [
    "Work by - Kartikey Singh"
   ]
  },
  {
   "cell_type": "markdown",
   "metadata": {},
   "source": [
    "### Import necessary libraries"
   ]
  },
  {
   "cell_type": "code",
   "execution_count": 1,
   "metadata": {},
   "outputs": [],
   "source": [
    "import pandas as pd\n",
    "import numpy as np\n",
    "import matplotlib.pyplot as plt\n",
    "%matplotlib inline\n",
    "import seaborn as sns\n",
    "# import matplotlib\n",
    "# matplotlib.use('TkAgg')"
   ]
  },
  {
   "cell_type": "markdown",
   "metadata": {},
   "source": [
    "### Reading the data"
   ]
  },
  {
   "cell_type": "code",
   "execution_count": 42,
   "metadata": {},
   "outputs": [
    {
     "data": {
      "text/html": [
       "<div>\n",
       "<style scoped>\n",
       "    .dataframe tbody tr th:only-of-type {\n",
       "        vertical-align: middle;\n",
       "    }\n",
       "\n",
       "    .dataframe tbody tr th {\n",
       "        vertical-align: top;\n",
       "    }\n",
       "\n",
       "    .dataframe thead th {\n",
       "        text-align: right;\n",
       "    }\n",
       "</style>\n",
       "<table border=\"1\" class=\"dataframe\">\n",
       "  <thead>\n",
       "    <tr style=\"text-align: right;\">\n",
       "      <th></th>\n",
       "      <th>holiday</th>\n",
       "      <th>temp</th>\n",
       "      <th>rain_1h</th>\n",
       "      <th>snow_1h</th>\n",
       "      <th>clouds_all</th>\n",
       "      <th>weather_main</th>\n",
       "      <th>weather_description</th>\n",
       "      <th>date_time</th>\n",
       "      <th>traffic_volume</th>\n",
       "    </tr>\n",
       "  </thead>\n",
       "  <tbody>\n",
       "    <tr>\n",
       "      <th>0</th>\n",
       "      <td>None</td>\n",
       "      <td>288.28</td>\n",
       "      <td>0.0</td>\n",
       "      <td>0.0</td>\n",
       "      <td>40</td>\n",
       "      <td>Clouds</td>\n",
       "      <td>scattered clouds</td>\n",
       "      <td>02-10-2012 09:00</td>\n",
       "      <td>5545</td>\n",
       "    </tr>\n",
       "    <tr>\n",
       "      <th>1</th>\n",
       "      <td>None</td>\n",
       "      <td>289.36</td>\n",
       "      <td>0.0</td>\n",
       "      <td>0.0</td>\n",
       "      <td>75</td>\n",
       "      <td>Clouds</td>\n",
       "      <td>broken clouds</td>\n",
       "      <td>02-10-2012 10:00</td>\n",
       "      <td>4516</td>\n",
       "    </tr>\n",
       "    <tr>\n",
       "      <th>2</th>\n",
       "      <td>None</td>\n",
       "      <td>289.58</td>\n",
       "      <td>0.0</td>\n",
       "      <td>0.0</td>\n",
       "      <td>90</td>\n",
       "      <td>Clouds</td>\n",
       "      <td>overcast clouds</td>\n",
       "      <td>02-10-2012 11:00</td>\n",
       "      <td>4767</td>\n",
       "    </tr>\n",
       "    <tr>\n",
       "      <th>3</th>\n",
       "      <td>None</td>\n",
       "      <td>290.13</td>\n",
       "      <td>0.0</td>\n",
       "      <td>0.0</td>\n",
       "      <td>90</td>\n",
       "      <td>Clouds</td>\n",
       "      <td>overcast clouds</td>\n",
       "      <td>02-10-2012 12:00</td>\n",
       "      <td>5026</td>\n",
       "    </tr>\n",
       "    <tr>\n",
       "      <th>4</th>\n",
       "      <td>None</td>\n",
       "      <td>291.14</td>\n",
       "      <td>0.0</td>\n",
       "      <td>0.0</td>\n",
       "      <td>75</td>\n",
       "      <td>Clouds</td>\n",
       "      <td>broken clouds</td>\n",
       "      <td>02-10-2012 13:00</td>\n",
       "      <td>4918</td>\n",
       "    </tr>\n",
       "  </tbody>\n",
       "</table>\n",
       "</div>"
      ],
      "text/plain": [
       "  holiday    temp  rain_1h  snow_1h  clouds_all weather_main  \\\n",
       "0    None  288.28      0.0      0.0          40       Clouds   \n",
       "1    None  289.36      0.0      0.0          75       Clouds   \n",
       "2    None  289.58      0.0      0.0          90       Clouds   \n",
       "3    None  290.13      0.0      0.0          90       Clouds   \n",
       "4    None  291.14      0.0      0.0          75       Clouds   \n",
       "\n",
       "  weather_description         date_time  traffic_volume  \n",
       "0    scattered clouds  02-10-2012 09:00            5545  \n",
       "1       broken clouds  02-10-2012 10:00            4516  \n",
       "2     overcast clouds  02-10-2012 11:00            4767  \n",
       "3     overcast clouds  02-10-2012 12:00            5026  \n",
       "4       broken clouds  02-10-2012 13:00            4918  "
      ]
     },
     "execution_count": 42,
     "metadata": {},
     "output_type": "execute_result"
    }
   ],
   "source": [
    "dataset = pd.read_csv('Traffic_Volume.csv')\n",
    "dataset.head()"
   ]
  },
  {
   "cell_type": "markdown",
   "metadata": {},
   "source": [
    "* holiday, temp, rain_1h, snow_1h, clouds_all, weather_main, weather_description, date_time are our independent variables\n",
    "* traffic_volume is our dependent variable"
   ]
  },
  {
   "cell_type": "code",
   "execution_count": 43,
   "metadata": {},
   "outputs": [
    {
     "data": {
      "text/plain": [
       "(48204, 9)"
      ]
     },
     "execution_count": 43,
     "metadata": {},
     "output_type": "execute_result"
    }
   ],
   "source": [
    "# data shape\n",
    "dataset.shape"
   ]
  },
  {
   "cell_type": "code",
   "execution_count": 44,
   "metadata": {},
   "outputs": [
    {
     "name": "stdout",
     "output_type": "stream",
     "text": [
      "<class 'pandas.core.frame.DataFrame'>\n",
      "RangeIndex: 48204 entries, 0 to 48203\n",
      "Data columns (total 9 columns):\n",
      " #   Column               Non-Null Count  Dtype  \n",
      "---  ------               --------------  -----  \n",
      " 0   holiday              48204 non-null  object \n",
      " 1   temp                 48151 non-null  float64\n",
      " 2   rain_1h              48202 non-null  float64\n",
      " 3   snow_1h              48192 non-null  float64\n",
      " 4   clouds_all           48204 non-null  int64  \n",
      " 5   weather_main         48155 non-null  object \n",
      " 6   weather_description  48204 non-null  object \n",
      " 7   date_time            48204 non-null  object \n",
      " 8   traffic_volume       48204 non-null  int64  \n",
      "dtypes: float64(3), int64(2), object(4)\n",
      "memory usage: 3.3+ MB\n"
     ]
    }
   ],
   "source": [
    "# column data type information\n",
    "dataset.info()"
   ]
  },
  {
   "cell_type": "markdown",
   "metadata": {},
   "source": [
    "We can separate the column types based on above information\n",
    "* Numerical Data: temp, rain_1h, snow_1h, clouds_all, traffic_volume\n",
    "* Categorical Data: holiday, weather_main, weather_description"
   ]
  },
  {
   "cell_type": "markdown",
   "metadata": {},
   "source": [
    "### Checking for missing values"
   ]
  },
  {
   "cell_type": "code",
   "execution_count": 45,
   "metadata": {},
   "outputs": [
    {
     "data": {
      "text/plain": [
       "holiday                False\n",
       "temp                    True\n",
       "rain_1h                 True\n",
       "snow_1h                 True\n",
       "clouds_all             False\n",
       "weather_main            True\n",
       "weather_description    False\n",
       "date_time              False\n",
       "traffic_volume         False\n",
       "dtype: bool"
      ]
     },
     "execution_count": 45,
     "metadata": {},
     "output_type": "execute_result"
    }
   ],
   "source": [
    "# Checking for any missing values in any column\n",
    "dataset.isnull().any()"
   ]
  },
  {
   "cell_type": "markdown",
   "metadata": {},
   "source": [
    "Since we have missing values for temp, rain_1h, snow_1h and weather_main, we'll resolve them based on their data type."
   ]
  },
  {
   "cell_type": "markdown",
   "metadata": {},
   "source": [
    "### Missing Values Treatment"
   ]
  },
  {
   "cell_type": "markdown",
   "metadata": {},
   "source": [
    "For numerical data, we'll replace the missing values with the respective mean of the column."
   ]
  },
  {
   "cell_type": "code",
   "execution_count": 46,
   "metadata": {},
   "outputs": [],
   "source": [
    "from sklearn.impute import SimpleImputer"
   ]
  },
  {
   "cell_type": "code",
   "execution_count": 47,
   "metadata": {},
   "outputs": [],
   "source": [
    "imputer = SimpleImputer(missing_values=np.nan, strategy='mean')"
   ]
  },
  {
   "cell_type": "code",
   "execution_count": 48,
   "metadata": {},
   "outputs": [],
   "source": [
    "imputer = imputer.fit(dataset.iloc[:, [1,2,3]])"
   ]
  },
  {
   "cell_type": "code",
   "execution_count": 49,
   "metadata": {},
   "outputs": [],
   "source": [
    "dataset.iloc[:, [1,2,3]] = imputer.transform(dataset.iloc[:, [1,2,3]])"
   ]
  },
  {
   "cell_type": "markdown",
   "metadata": {},
   "source": [
    "For categorical data, we'll replace missing values with the most frequently occuring value"
   ]
  },
  {
   "cell_type": "code",
   "execution_count": 50,
   "metadata": {},
   "outputs": [],
   "source": [
    "imputer = SimpleImputer(missing_values=np.nan, strategy='most_frequent')"
   ]
  },
  {
   "cell_type": "code",
   "execution_count": 51,
   "metadata": {},
   "outputs": [],
   "source": [
    "imputer = imputer.fit(dataset.iloc[:, [5]])"
   ]
  },
  {
   "cell_type": "code",
   "execution_count": 52,
   "metadata": {},
   "outputs": [],
   "source": [
    "dataset.iloc[:, [5]] = imputer.transform(dataset.iloc[:, [5]])"
   ]
  },
  {
   "cell_type": "code",
   "execution_count": 53,
   "metadata": {},
   "outputs": [
    {
     "data": {
      "text/plain": [
       "holiday                False\n",
       "temp                   False\n",
       "rain_1h                False\n",
       "snow_1h                False\n",
       "clouds_all             False\n",
       "weather_main           False\n",
       "weather_description    False\n",
       "date_time              False\n",
       "traffic_volume         False\n",
       "dtype: bool"
      ]
     },
     "execution_count": 53,
     "metadata": {},
     "output_type": "execute_result"
    }
   ],
   "source": [
    "# Checking for missing values again\n",
    "dataset.isnull().any()"
   ]
  },
  {
   "cell_type": "markdown",
   "metadata": {},
   "source": [
    "Hence, we've resolved the missing values by replacing using respective methods."
   ]
  },
  {
   "cell_type": "markdown",
   "metadata": {},
   "source": [
    "### Statistical Analysis"
   ]
  },
  {
   "cell_type": "code",
   "execution_count": 54,
   "metadata": {},
   "outputs": [
    {
     "data": {
      "text/html": [
       "<div>\n",
       "<style scoped>\n",
       "    .dataframe tbody tr th:only-of-type {\n",
       "        vertical-align: middle;\n",
       "    }\n",
       "\n",
       "    .dataframe tbody tr th {\n",
       "        vertical-align: top;\n",
       "    }\n",
       "\n",
       "    .dataframe thead th {\n",
       "        text-align: right;\n",
       "    }\n",
       "</style>\n",
       "<table border=\"1\" class=\"dataframe\">\n",
       "  <thead>\n",
       "    <tr style=\"text-align: right;\">\n",
       "      <th></th>\n",
       "      <th>count</th>\n",
       "      <th>unique</th>\n",
       "      <th>top</th>\n",
       "      <th>freq</th>\n",
       "      <th>mean</th>\n",
       "      <th>std</th>\n",
       "      <th>min</th>\n",
       "      <th>25%</th>\n",
       "      <th>50%</th>\n",
       "      <th>75%</th>\n",
       "      <th>max</th>\n",
       "    </tr>\n",
       "  </thead>\n",
       "  <tbody>\n",
       "    <tr>\n",
       "      <th>holiday</th>\n",
       "      <td>48204</td>\n",
       "      <td>12</td>\n",
       "      <td>None</td>\n",
       "      <td>48143</td>\n",
       "      <td>NaN</td>\n",
       "      <td>NaN</td>\n",
       "      <td>NaN</td>\n",
       "      <td>NaN</td>\n",
       "      <td>NaN</td>\n",
       "      <td>NaN</td>\n",
       "      <td>NaN</td>\n",
       "    </tr>\n",
       "    <tr>\n",
       "      <th>temp</th>\n",
       "      <td>48204</td>\n",
       "      <td>NaN</td>\n",
       "      <td>NaN</td>\n",
       "      <td>NaN</td>\n",
       "      <td>281.205</td>\n",
       "      <td>13.3363</td>\n",
       "      <td>0</td>\n",
       "      <td>272.18</td>\n",
       "      <td>282.429</td>\n",
       "      <td>291.8</td>\n",
       "      <td>310.07</td>\n",
       "    </tr>\n",
       "    <tr>\n",
       "      <th>rain_1h</th>\n",
       "      <td>48204</td>\n",
       "      <td>NaN</td>\n",
       "      <td>NaN</td>\n",
       "      <td>NaN</td>\n",
       "      <td>0.334278</td>\n",
       "      <td>44.7891</td>\n",
       "      <td>0</td>\n",
       "      <td>0</td>\n",
       "      <td>0</td>\n",
       "      <td>0</td>\n",
       "      <td>9831.3</td>\n",
       "    </tr>\n",
       "    <tr>\n",
       "      <th>snow_1h</th>\n",
       "      <td>48204</td>\n",
       "      <td>NaN</td>\n",
       "      <td>NaN</td>\n",
       "      <td>NaN</td>\n",
       "      <td>0.000222444</td>\n",
       "      <td>0.00816761</td>\n",
       "      <td>0</td>\n",
       "      <td>0</td>\n",
       "      <td>0</td>\n",
       "      <td>0</td>\n",
       "      <td>0.51</td>\n",
       "    </tr>\n",
       "    <tr>\n",
       "      <th>clouds_all</th>\n",
       "      <td>48204</td>\n",
       "      <td>NaN</td>\n",
       "      <td>NaN</td>\n",
       "      <td>NaN</td>\n",
       "      <td>49.3622</td>\n",
       "      <td>39.0158</td>\n",
       "      <td>0</td>\n",
       "      <td>1</td>\n",
       "      <td>64</td>\n",
       "      <td>90</td>\n",
       "      <td>100</td>\n",
       "    </tr>\n",
       "    <tr>\n",
       "      <th>weather_main</th>\n",
       "      <td>48204</td>\n",
       "      <td>11</td>\n",
       "      <td>Clouds</td>\n",
       "      <td>15193</td>\n",
       "      <td>NaN</td>\n",
       "      <td>NaN</td>\n",
       "      <td>NaN</td>\n",
       "      <td>NaN</td>\n",
       "      <td>NaN</td>\n",
       "      <td>NaN</td>\n",
       "      <td>NaN</td>\n",
       "    </tr>\n",
       "    <tr>\n",
       "      <th>weather_description</th>\n",
       "      <td>48204</td>\n",
       "      <td>38</td>\n",
       "      <td>sky is clear</td>\n",
       "      <td>11665</td>\n",
       "      <td>NaN</td>\n",
       "      <td>NaN</td>\n",
       "      <td>NaN</td>\n",
       "      <td>NaN</td>\n",
       "      <td>NaN</td>\n",
       "      <td>NaN</td>\n",
       "      <td>NaN</td>\n",
       "    </tr>\n",
       "    <tr>\n",
       "      <th>date_time</th>\n",
       "      <td>48204</td>\n",
       "      <td>40575</td>\n",
       "      <td>19-05-2013 10:00</td>\n",
       "      <td>6</td>\n",
       "      <td>NaN</td>\n",
       "      <td>NaN</td>\n",
       "      <td>NaN</td>\n",
       "      <td>NaN</td>\n",
       "      <td>NaN</td>\n",
       "      <td>NaN</td>\n",
       "      <td>NaN</td>\n",
       "    </tr>\n",
       "    <tr>\n",
       "      <th>traffic_volume</th>\n",
       "      <td>48204</td>\n",
       "      <td>NaN</td>\n",
       "      <td>NaN</td>\n",
       "      <td>NaN</td>\n",
       "      <td>3259.82</td>\n",
       "      <td>1986.86</td>\n",
       "      <td>0</td>\n",
       "      <td>1193</td>\n",
       "      <td>3380</td>\n",
       "      <td>4933</td>\n",
       "      <td>7280</td>\n",
       "    </tr>\n",
       "  </tbody>\n",
       "</table>\n",
       "</div>"
      ],
      "text/plain": [
       "                     count unique               top   freq         mean  \\\n",
       "holiday              48204     12              None  48143          NaN   \n",
       "temp                 48204    NaN               NaN    NaN      281.205   \n",
       "rain_1h              48204    NaN               NaN    NaN     0.334278   \n",
       "snow_1h              48204    NaN               NaN    NaN  0.000222444   \n",
       "clouds_all           48204    NaN               NaN    NaN      49.3622   \n",
       "weather_main         48204     11            Clouds  15193          NaN   \n",
       "weather_description  48204     38      sky is clear  11665          NaN   \n",
       "date_time            48204  40575  19-05-2013 10:00      6          NaN   \n",
       "traffic_volume       48204    NaN               NaN    NaN      3259.82   \n",
       "\n",
       "                            std  min     25%      50%    75%     max  \n",
       "holiday                     NaN  NaN     NaN      NaN    NaN     NaN  \n",
       "temp                    13.3363    0  272.18  282.429  291.8  310.07  \n",
       "rain_1h                 44.7891    0       0        0      0  9831.3  \n",
       "snow_1h              0.00816761    0       0        0      0    0.51  \n",
       "clouds_all              39.0158    0       1       64     90     100  \n",
       "weather_main                NaN  NaN     NaN      NaN    NaN     NaN  \n",
       "weather_description         NaN  NaN     NaN      NaN    NaN     NaN  \n",
       "date_time                   NaN  NaN     NaN      NaN    NaN     NaN  \n",
       "traffic_volume          1986.86    0    1193     3380   4933    7280  "
      ]
     },
     "execution_count": 54,
     "metadata": {},
     "output_type": "execute_result"
    }
   ],
   "source": [
    "# Basic stats for all columns\n",
    "dataset.describe(include='all').transpose()"
   ]
  },
  {
   "cell_type": "markdown",
   "metadata": {},
   "source": [
    " * For numerical data, we can see the mean, median, std, min, max.\n",
    " * For categorical data, we can see the frequency of the most occuring value and no of unique values. "
   ]
  },
  {
   "cell_type": "code",
   "execution_count": 55,
   "metadata": {},
   "outputs": [
    {
     "data": {
      "text/html": [
       "<div>\n",
       "<style scoped>\n",
       "    .dataframe tbody tr th:only-of-type {\n",
       "        vertical-align: middle;\n",
       "    }\n",
       "\n",
       "    .dataframe tbody tr th {\n",
       "        vertical-align: top;\n",
       "    }\n",
       "\n",
       "    .dataframe thead th {\n",
       "        text-align: right;\n",
       "    }\n",
       "</style>\n",
       "<table border=\"1\" class=\"dataframe\">\n",
       "  <thead>\n",
       "    <tr style=\"text-align: right;\">\n",
       "      <th></th>\n",
       "      <th>count</th>\n",
       "      <th>mean</th>\n",
       "      <th>std</th>\n",
       "      <th>min</th>\n",
       "      <th>25%</th>\n",
       "      <th>50%</th>\n",
       "      <th>75%</th>\n",
       "      <th>max</th>\n",
       "    </tr>\n",
       "  </thead>\n",
       "  <tbody>\n",
       "    <tr>\n",
       "      <th>temp</th>\n",
       "      <td>48204.0</td>\n",
       "      <td>281.205351</td>\n",
       "      <td>13.336338</td>\n",
       "      <td>0.0</td>\n",
       "      <td>272.18</td>\n",
       "      <td>282.429</td>\n",
       "      <td>291.8</td>\n",
       "      <td>310.07</td>\n",
       "    </tr>\n",
       "    <tr>\n",
       "      <th>rain_1h</th>\n",
       "      <td>48204.0</td>\n",
       "      <td>0.334278</td>\n",
       "      <td>44.789133</td>\n",
       "      <td>0.0</td>\n",
       "      <td>0.00</td>\n",
       "      <td>0.000</td>\n",
       "      <td>0.0</td>\n",
       "      <td>9831.30</td>\n",
       "    </tr>\n",
       "    <tr>\n",
       "      <th>snow_1h</th>\n",
       "      <td>48204.0</td>\n",
       "      <td>0.000222</td>\n",
       "      <td>0.008168</td>\n",
       "      <td>0.0</td>\n",
       "      <td>0.00</td>\n",
       "      <td>0.000</td>\n",
       "      <td>0.0</td>\n",
       "      <td>0.51</td>\n",
       "    </tr>\n",
       "    <tr>\n",
       "      <th>clouds_all</th>\n",
       "      <td>48204.0</td>\n",
       "      <td>49.362231</td>\n",
       "      <td>39.015750</td>\n",
       "      <td>0.0</td>\n",
       "      <td>1.00</td>\n",
       "      <td>64.000</td>\n",
       "      <td>90.0</td>\n",
       "      <td>100.00</td>\n",
       "    </tr>\n",
       "    <tr>\n",
       "      <th>traffic_volume</th>\n",
       "      <td>48204.0</td>\n",
       "      <td>3259.818355</td>\n",
       "      <td>1986.860670</td>\n",
       "      <td>0.0</td>\n",
       "      <td>1193.00</td>\n",
       "      <td>3380.000</td>\n",
       "      <td>4933.0</td>\n",
       "      <td>7280.00</td>\n",
       "    </tr>\n",
       "  </tbody>\n",
       "</table>\n",
       "</div>"
      ],
      "text/plain": [
       "                  count         mean          std  min      25%       50%  \\\n",
       "temp            48204.0   281.205351    13.336338  0.0   272.18   282.429   \n",
       "rain_1h         48204.0     0.334278    44.789133  0.0     0.00     0.000   \n",
       "snow_1h         48204.0     0.000222     0.008168  0.0     0.00     0.000   \n",
       "clouds_all      48204.0    49.362231    39.015750  0.0     1.00    64.000   \n",
       "traffic_volume  48204.0  3259.818355  1986.860670  0.0  1193.00  3380.000   \n",
       "\n",
       "                   75%      max  \n",
       "temp             291.8   310.07  \n",
       "rain_1h            0.0  9831.30  \n",
       "snow_1h            0.0     0.51  \n",
       "clouds_all        90.0   100.00  \n",
       "traffic_volume  4933.0  7280.00  "
      ]
     },
     "execution_count": 55,
     "metadata": {},
     "output_type": "execute_result"
    }
   ],
   "source": [
    "# Basic stats for just numerical data\n",
    "dataset.describe().transpose()"
   ]
  },
  {
   "cell_type": "code",
   "execution_count": 56,
   "metadata": {},
   "outputs": [
    {
     "data": {
      "text/html": [
       "<div>\n",
       "<style scoped>\n",
       "    .dataframe tbody tr th:only-of-type {\n",
       "        vertical-align: middle;\n",
       "    }\n",
       "\n",
       "    .dataframe tbody tr th {\n",
       "        vertical-align: top;\n",
       "    }\n",
       "\n",
       "    .dataframe thead th {\n",
       "        text-align: right;\n",
       "    }\n",
       "</style>\n",
       "<table border=\"1\" class=\"dataframe\">\n",
       "  <thead>\n",
       "    <tr style=\"text-align: right;\">\n",
       "      <th></th>\n",
       "      <th>count</th>\n",
       "      <th>unique</th>\n",
       "      <th>top</th>\n",
       "      <th>freq</th>\n",
       "    </tr>\n",
       "  </thead>\n",
       "  <tbody>\n",
       "    <tr>\n",
       "      <th>holiday</th>\n",
       "      <td>48204</td>\n",
       "      <td>12</td>\n",
       "      <td>None</td>\n",
       "      <td>48143</td>\n",
       "    </tr>\n",
       "    <tr>\n",
       "      <th>weather_main</th>\n",
       "      <td>48204</td>\n",
       "      <td>11</td>\n",
       "      <td>Clouds</td>\n",
       "      <td>15193</td>\n",
       "    </tr>\n",
       "    <tr>\n",
       "      <th>weather_description</th>\n",
       "      <td>48204</td>\n",
       "      <td>38</td>\n",
       "      <td>sky is clear</td>\n",
       "      <td>11665</td>\n",
       "    </tr>\n",
       "    <tr>\n",
       "      <th>date_time</th>\n",
       "      <td>48204</td>\n",
       "      <td>40575</td>\n",
       "      <td>19-05-2013 10:00</td>\n",
       "      <td>6</td>\n",
       "    </tr>\n",
       "  </tbody>\n",
       "</table>\n",
       "</div>"
      ],
      "text/plain": [
       "                     count unique               top   freq\n",
       "holiday              48204     12              None  48143\n",
       "weather_main         48204     11            Clouds  15193\n",
       "weather_description  48204     38      sky is clear  11665\n",
       "date_time            48204  40575  19-05-2013 10:00      6"
      ]
     },
     "execution_count": 56,
     "metadata": {},
     "output_type": "execute_result"
    }
   ],
   "source": [
    "# Basic stats for just categorical data\n",
    "dataset.describe(include='object').transpose()"
   ]
  },
  {
   "cell_type": "code",
   "execution_count": 57,
   "metadata": {
    "scrolled": false
   },
   "outputs": [
    {
     "data": {
      "text/plain": [
       "weather_main\n",
       "Clear           13383\n",
       "Clouds          15193\n",
       "Drizzle          1818\n",
       "Fog               912\n",
       "Haze             1359\n",
       "Mist             5942\n",
       "Rain             5665\n",
       "Smoke              20\n",
       "Snow             2875\n",
       "Squall              4\n",
       "Thunderstorm     1033\n",
       "dtype: int64"
      ]
     },
     "execution_count": 57,
     "metadata": {},
     "output_type": "execute_result"
    }
   ],
   "source": [
    "# Getting count of each unique value for categorical data\n",
    "dataset.groupby(['weather_main']).size()"
   ]
  },
  {
   "cell_type": "code",
   "execution_count": 195,
   "metadata": {},
   "outputs": [
    {
     "name": "stdout",
     "output_type": "stream",
     "text": [
      "Basic stats for column holiday\n",
      "Unique Values: holiday\n",
      "Christmas Day                    6\n",
      "Columbus Day                     5\n",
      "Independence Day                 5\n",
      "Labor Day                        7\n",
      "Martin Luther King Jr Day        6\n",
      "Memorial Day                     5\n",
      "New Years Day                    6\n",
      "None                         48143\n",
      "State Fair                       5\n",
      "Thanksgiving Day                 6\n",
      "Veterans Day                     5\n",
      "Washingtons Birthday             5\n",
      "dtype: int64\n",
      "\n",
      "\n",
      "Basic stats for column temp\n",
      "Mean: 281.2053507092272\n",
      "Median: 282.42900000000003\n",
      "Mode:\n",
      "0    274.15\n",
      "dtype: float64\n",
      "Variance: 177.85790278967227\n",
      "Standard Deviation: 13.336337682800037\n",
      "Min: 0.0\n",
      "Max: 310.07\n",
      "Range: 310.07\n",
      "Q1 (25%): 272.18\n",
      "Q3 (75%): 291.8\n",
      "IQR: 19.620000000000005\n",
      "Skewness: -2.2481211761236772\n",
      "Kurtosis: 39.93893171304241\n",
      "\n",
      "\n",
      "Basic stats for column rain_1h\n",
      "Mean: 0.33427783079540263\n",
      "Median: 0.0\n",
      "Mode:\n",
      "0    0.0\n",
      "dtype: float64\n",
      "Variance: 2006.0664335645336\n",
      "Standard Deviation: 44.7891329851844\n",
      "Min: 0.0\n",
      "Max: 9831.3\n",
      "Range: 9831.3\n",
      "Q1 (25%): 0.0\n",
      "Q3 (75%): 0.0\n",
      "IQR: 0.0\n",
      "Skewness: 219.3890356032531\n",
      "Kurtosis: 48155.62675762915\n",
      "\n",
      "\n",
      "Basic stats for column snow_1h\n",
      "Mean: 0.00022244355909694554\n",
      "Median: 0.0\n",
      "Mode:\n",
      "0    0.0\n",
      "dtype: float64\n",
      "Variance: 6.670986048682614e-05\n",
      "Standard Deviation: 0.008167610451461685\n",
      "Min: 0.0\n",
      "Max: 0.51\n",
      "Range: 0.51\n",
      "Q1 (25%): 0.0\n",
      "Q3 (75%): 0.0\n",
      "IQR: 0.0\n",
      "Skewness: 48.36747731169819\n",
      "Kurtosis: 2620.4654862510183\n",
      "\n",
      "\n",
      "Basic stats for column clouds_all\n",
      "Mean: 49.36223135009543\n",
      "Median: 64.0\n",
      "Mode:\n",
      "0    90\n",
      "dtype: int64\n",
      "Variance: 1522.2287840672986\n",
      "Standard Deviation: 39.01575046141364\n",
      "Min: 0\n",
      "Max: 100\n",
      "Range: 100\n",
      "Q1 (25%): 1.0\n",
      "Q3 (75%): 90.0\n",
      "IQR: 89.0\n",
      "Skewness: -0.1972567027959649\n",
      "Kurtosis: -1.7422655046406021\n",
      "\n",
      "\n",
      "Basic stats for column weather_main\n",
      "Unique Values: weather_main\n",
      "Clear           13383\n",
      "Clouds          15193\n",
      "Drizzle          1818\n",
      "Fog               912\n",
      "Haze             1359\n",
      "Mist             5942\n",
      "Rain             5665\n",
      "Smoke              20\n",
      "Snow             2875\n",
      "Squall              4\n",
      "Thunderstorm     1033\n",
      "dtype: int64\n",
      "\n",
      "\n",
      "Basic stats for column weather_description\n",
      "Unique Values: weather_description\n",
      "SQUALLS                                    4\n",
      "Sky is Clear                            1726\n",
      "broken clouds                           4666\n",
      "drizzle                                  651\n",
      "few clouds                              1956\n",
      "fog                                      912\n",
      "freezing rain                              2\n",
      "haze                                    1360\n",
      "heavy intensity drizzle                   64\n",
      "heavy intensity rain                     467\n",
      "heavy snow                               616\n",
      "light intensity drizzle                 1100\n",
      "light intensity shower rain               13\n",
      "light rain                              3372\n",
      "light rain and snow                        6\n",
      "light shower snow                         11\n",
      "light snow                              1946\n",
      "mist                                    5950\n",
      "moderate rain                           1664\n",
      "overcast clouds                         5081\n",
      "proximity shower rain                    136\n",
      "proximity thunderstorm                   673\n",
      "proximity thunderstorm with drizzle       13\n",
      "proximity thunderstorm with rain          52\n",
      "scattered clouds                        3461\n",
      "shower drizzle                             6\n",
      "shower snow                                1\n",
      "sky is clear                           11665\n",
      "sleet                                      3\n",
      "smoke                                     20\n",
      "snow                                     293\n",
      "thunderstorm                             125\n",
      "thunderstorm with drizzle                  2\n",
      "thunderstorm with heavy rain              63\n",
      "thunderstorm with light drizzle           15\n",
      "thunderstorm with light rain              54\n",
      "thunderstorm with rain                    37\n",
      "very heavy rain                           18\n",
      "dtype: int64\n",
      "\n",
      "\n",
      "Basic stats for column date_time\n",
      "Unique Values: date_time\n",
      "01-01-2013 00:00    1\n",
      "01-01-2013 01:00    1\n",
      "01-01-2013 02:00    1\n",
      "01-01-2013 03:00    1\n",
      "01-01-2013 04:00    1\n",
      "                   ..\n",
      "31-12-2017 19:00    1\n",
      "31-12-2017 20:00    1\n",
      "31-12-2017 21:00    1\n",
      "31-12-2017 22:00    1\n",
      "31-12-2017 23:00    1\n",
      "Length: 40575, dtype: int64\n",
      "\n",
      "\n"
     ]
    }
   ],
   "source": [
    "# Below code is an attempt to reduce the time it takes to calculate extra stats like mode, variance, skewness, kurtosis\n",
    "# as well as count analysis for categorical data by operating on them at once\n",
    "\n",
    "# Separate stats for each column, where categorical and numerical both have their stats\n",
    "for x in dataset.columns[:-1]:\n",
    "    print(f\"Basic stats for column \"+x)\n",
    "    if dataset[x].dtype == 'int64' or dataset[x].dtype == 'float64':\n",
    "        col_mean = dataset[x].mean()\n",
    "        print(\"Mean:\", col_mean)\n",
    "        col_median = dataset[x].median()\n",
    "        print(\"Median:\", col_median)\n",
    "        col_mode = dataset[x].mode()\n",
    "        print(f\"Mode:\\n{col_mode}\")\n",
    "        col_var = dataset[x].var()\n",
    "        print(\"Variance:\", col_var)\n",
    "        col_std = dataset[x].std()\n",
    "        print(\"Standard Deviation:\", col_std)\n",
    "        col_min = dataset[x].min()\n",
    "        print(\"Min:\", col_min)\n",
    "        col_max = dataset[x].max()\n",
    "        print(\"Max:\", col_max)\n",
    "        col_range = col_max - col_min\n",
    "        print(\"Range:\", col_range)\n",
    "        col_q1 = dataset[x].quantile(0.25)\n",
    "        print(\"Q1 (25%):\", col_q1)\n",
    "        col_q3 = dataset[x].quantile(0.75)\n",
    "        print(\"Q3 (75%):\", col_q3)\n",
    "        col_iqr = col_q3 - col_q1\n",
    "        print(\"IQR:\", col_iqr)\n",
    "        col_skew = dataset[x].skew()\n",
    "        print(\"Skewness:\", col_skew)\n",
    "        col_kurt = dataset[x].kurt()\n",
    "        print(\"Kurtosis:\", col_kurt)\n",
    "        print('\\n')\n",
    "    elif dataset[x].dtype == 'object':\n",
    "        col_unique = dataset.groupby(x).size()\n",
    "        print(\"Unique Values:\", col_unique)\n",
    "        print('\\n')\n",
    "    "
   ]
  },
  {
   "cell_type": "markdown",
   "metadata": {},
   "source": [
    "### Dataset visualizations"
   ]
  },
  {
   "cell_type": "code",
   "execution_count": 59,
   "metadata": {},
   "outputs": [
    {
     "data": {
      "image/png": "[encoded data removed]",
      "text/plain": [
       "<Figure size 576x432 with 1 Axes>"
      ]
     },
     "metadata": {
      "needs_background": "light"
     },
     "output_type": "display_data"
    }
   ],
   "source": [
    "#Plotting frequency of each category in holiday column\n",
    "plt.figure(figsize = (8,6))\n",
    "sns.countplot(y='holiday', data = dataset)\n",
    "plt.show()"
   ]
  },
  {
   "cell_type": "code",
   "execution_count": 60,
   "metadata": {},
   "outputs": [
    {
     "data": {
      "image/png": "[encoded data removed]",
      "text/plain": [
       "<Figure size 576x432 with 1 Axes>"
      ]
     },
     "metadata": {
      "needs_background": "light"
     },
     "output_type": "display_data"
    }
   ],
   "source": [
    "#Plotting frequency of each category in holiday column without 'None' data\n",
    "holidays = dataset.loc[dataset.holiday != 'None']\n",
    "plt.figure(figsize = (8,6))\n",
    "sns.countplot(y='holiday', data = holidays)\n",
    "plt.show()"
   ]
  },
  {
   "cell_type": "code",
   "execution_count": 61,
   "metadata": {},
   "outputs": [
    {
     "data": {
      "image/png": "[encoded data removed]",
      "text/plain": [
       "<Figure size 432x288 with 1 Axes>"
      ]
     },
     "metadata": {
      "needs_background": "light"
     },
     "output_type": "display_data"
    }
   ],
   "source": [
    "# plotting distribution of temperature variable\n",
    "plt.figure(figsize=(6,4))\n",
    "sns.boxplot('temp', data = dataset)\n",
    "plt.show()"
   ]
  },
  {
   "cell_type": "markdown",
   "metadata": {},
   "source": [
    "We can see outliers in temp data, which we'll clean in data cleaning process"
   ]
  },
  {
   "cell_type": "code",
   "execution_count": 62,
   "metadata": {},
   "outputs": [
    {
     "data": {
      "image/png": "[encoded data removed]",
      "text/plain": [
       "<Figure size 432x288 with 1 Axes>"
      ]
     },
     "metadata": {
      "needs_background": "light"
     },
     "output_type": "display_data"
    }
   ],
   "source": [
    "#Plotting rain variable\n",
    "plt.figure(figsize=(6,4))\n",
    "sns.distplot(dataset.rain_1h)\n",
    "plt.show()\n",
    "#From the distribution, it shows that the data is extremely skewed. \n",
    "#Most of the observations are concentrated around 0."
   ]
  },
  {
   "cell_type": "code",
   "execution_count": 63,
   "metadata": {},
   "outputs": [
    {
     "data": {
      "image/png": "[encoded data removed]",
      "text/plain": [
       "<Figure size 432x288 with 1 Axes>"
      ]
     },
     "metadata": {
      "needs_background": "light"
     },
     "output_type": "display_data"
    }
   ],
   "source": [
    "#Plotting snow variable indicates that data is again skewed and most of the observations have value close to 0.0.\n",
    "plt.hist(dataset.snow_1h)\n",
    "plt.show()"
   ]
  },
  {
   "cell_type": "code",
   "execution_count": 86,
   "metadata": {},
   "outputs": [
    {
     "data": {
      "image/png": "[encoded data removed]",
      "text/plain": [
       "<Figure size 720x720 with 2 Axes>"
      ]
     },
     "metadata": {
      "needs_background": "light"
     },
     "output_type": "display_data"
    }
   ],
   "source": [
    "# Checking correlation between independent variables\n",
    "def correlation_heatmap(train):\n",
    "    correlations = train.corr()\n",
    "\n",
    "    fig, ax = plt.subplots(figsize=(10,10))\n",
    "    sns.heatmap(correlations, vmax=1.0, center=0, fmt='.2f',\n",
    "                square=True, linewidths=.5, annot=True, cbar_kws={\"shrink\": .70})\n",
    "    plt.show()\n",
    "    \n",
    "correlation_heatmap(dataset)\n",
    "# There is no strong corelation between independent variables"
   ]
  },
  {
   "cell_type": "code",
   "execution_count": 87,
   "metadata": {
    "collapsed": true
   },
   "outputs": [
    {
     "data": {
      "text/plain": [
       "{'holiday': array(['Christmas Day', 'Columbus Day', 'Independence Day', 'Labor Day',\n",
       "        'Martin Luther King Jr Day', 'Memorial Day', 'New Years Day',\n",
       "        'None', 'State Fair', 'Thanksgiving Day', 'Veterans Day',\n",
       "        'Washingtons Birthday'], dtype='<U25'),\n",
       " 'temp': array(['0.0', '243.39', '243.62', ..., '309.08', '309.29', '310.07'],\n",
       "       dtype='<U18'),\n",
       " 'rain_1h': array(['0.0', '0.25', '0.26', '0.27', '0.28', '0.29', '0.3', '0.31',\n",
       "        '0.32', '0.33', '0.33427783079540263', '0.34', '0.35', '0.36',\n",
       "        '0.37', '0.38', '0.4', '0.41', '0.42', '0.43', '0.44', '0.45',\n",
       "        '0.46', '0.47', '0.48', '0.5', '0.51', '0.52', '0.53', '0.54',\n",
       "        '0.55', '0.56', '0.57', '0.58', '0.59', '0.6', '0.61', '0.62',\n",
       "        '0.63', '0.64', '0.65', '0.66', '0.67', '0.68', '0.69', '0.7',\n",
       "        '0.71', '0.72', '0.73', '0.74', '0.76', '0.77', '0.78', '0.79',\n",
       "        '0.8', '0.81', '0.83', '0.84', '0.85', '0.86', '0.87', '0.88',\n",
       "        '0.89', '0.9', '0.91', '0.92', '0.93', '0.94', '0.95', '0.96',\n",
       "        '0.97', '0.98', '1.0', '1.01', '1.02', '1.03', '1.04', '1.05',\n",
       "        '1.06', '1.07', '1.08', '1.09', '1.1', '1.11', '1.12', '1.13',\n",
       "        '1.14', '1.15', '1.16', '1.19', '1.2', '1.21', '1.22', '1.24',\n",
       "        '1.25', '1.27', '1.28', '1.29', '1.3', '1.31', '1.32', '1.33',\n",
       "        '1.34', '1.35', '1.37', '1.38', '1.39', '1.4', '1.41', '1.44',\n",
       "        '1.45', '1.46', '1.47', '1.49', '1.5', '1.51', '1.52', '1.53',\n",
       "        '1.55', '1.56', '1.59', '1.6', '1.61', '1.63', '1.65', '1.66',\n",
       "        '1.67', '1.68', '1.69', '1.7', '1.71', '1.72', '1.76', '1.78',\n",
       "        '1.8', '1.82', '1.83', '1.84', '1.85', '1.86', '1.87', '1.88',\n",
       "        '1.9', '1.91', '1.93', '1.95', '1.96', '1.98', '10.05', '10.16',\n",
       "        '10.54', '10.6', '10.67', '10.92', '11.23', '11.58', '11.59',\n",
       "        '11.78', '12.19', '12.45', '12.7', '12.83', '13.21', '13.32',\n",
       "        '13.46', '13.64', '14.73', '15.41', '15.75', '16.0', '16.38',\n",
       "        '16.51', '18.03', '18.42', '18.8', '19.9', '2.03', '2.05', '2.06',\n",
       "        '2.08', '2.1', '2.11', '2.12', '2.13', '2.14', '2.15', '2.16',\n",
       "        '2.18', '2.19', '2.2', '2.21', '2.22', '2.26', '2.29', '2.31',\n",
       "        '2.33', '2.34', '2.35', '2.37', '2.38', '2.39', '2.4', '2.41',\n",
       "        '2.48', '2.49', '2.53', '2.54', '2.6', '2.61', '2.62', '2.67',\n",
       "        '2.68', '2.7', '2.73', '2.75', '2.76', '2.78', '2.79', '2.8',\n",
       "        '2.83', '2.84', '2.85', '2.86', '2.87', '2.88', '2.91', '2.92',\n",
       "        '2.93', '2.96', '2.98', '20.07', '20.24', '21.42', '23.8', '25.32',\n",
       "        '25.46', '27.57', '28.7', '3.01', '3.05', '3.08', '3.09', '3.1',\n",
       "        '3.12', '3.13', '3.17', '3.18', '3.19', '3.2', '3.25', '3.27',\n",
       "        '3.28', '3.3', '3.39', '3.4', '3.41', '3.44', '3.45', '3.47',\n",
       "        '3.54', '3.56', '3.64', '3.65', '3.74', '3.75', '3.8', '3.81',\n",
       "        '3.86', '3.9', '3.91', '3.94', '3.98', '31.75', '4.0', '4.04',\n",
       "        '4.05', '4.06', '4.09', '4.15', '4.18', '4.21', '4.27', '4.29',\n",
       "        '4.32', '4.38', '4.39', '4.43', '4.45', '4.5', '4.53', '4.57',\n",
       "        '4.64', '4.66', '4.7', '4.74', '4.76', '4.79', '4.8', '4.89',\n",
       "        '4.98', '44.45', '5.02', '5.04', '5.06', '5.08', '5.1', '5.11',\n",
       "        '5.12', '5.19', '5.21', '5.25', '5.27', '5.36', '5.41', '5.42',\n",
       "        '5.46', '5.52', '5.58', '5.59', '5.62', '5.69', '5.73', '5.74',\n",
       "        '5.84', '5.86', '5.89', '5.92', '5.93', '5.97', '5.99', '55.63',\n",
       "        '6.01', '6.1', '6.35', '6.45', '6.47', '6.48', '6.6', '6.89',\n",
       "        '6.94', '7.02', '7.05', '7.11', '7.13', '7.25', '7.29', '7.37',\n",
       "        '7.39', '7.51', '7.54', '7.62', '7.7', '7.72', '7.77', '7.87',\n",
       "        '7.97', '8.0', '8.02', '8.04', '8.4', '8.64', '8.86', '8.89',\n",
       "        '9.0', '9.14', '9.15', '9.4', '9.42', '9.53', '9.62', '9.9',\n",
       "        '9.91', '9831.3'], dtype='<U19'),\n",
       " 'snow_1h': array(['0.0', '0.00022244355909694556', '0.05', '0.06', '0.08', '0.1',\n",
       "        '0.13', '0.17', '0.21', '0.25', '0.32', '0.44', '0.51'],\n",
       "       dtype='<U22'),\n",
       " 'clouds_all': array(['0', '1', '100', '11', '12', '13', '16', '17', '2', '20', '24',\n",
       "        '25', '3', '32', '36', '38', '4', '40', '42', '44', '46', '48',\n",
       "        '5', '50', '54', '56', '57', '58', '59', '6', '60', '62', '63',\n",
       "        '64', '67', '68', '70', '72', '75', '76', '77', '78', '8', '80',\n",
       "        '81', '83', '84', '85', '86', '87', '88', '89', '90', '91', '92',\n",
       "        '93', '96', '97', '98', '99'], dtype='<U3'),\n",
       " 'weather_main': array(['Clear', 'Clouds', 'Drizzle', 'Fog', 'Haze', 'Mist', 'Rain',\n",
       "        'Smoke', 'Snow', 'Squall', 'Thunderstorm'], dtype='<U12'),\n",
       " 'weather_description': array(['SQUALLS', 'Sky is Clear', 'broken clouds', 'drizzle',\n",
       "        'few clouds', 'fog', 'freezing rain', 'haze',\n",
       "        'heavy intensity drizzle', 'heavy intensity rain', 'heavy snow',\n",
       "        'light intensity drizzle', 'light intensity shower rain',\n",
       "        'light rain', 'light rain and snow', 'light shower snow',\n",
       "        'light snow', 'mist', 'moderate rain', 'overcast clouds',\n",
       "        'proximity shower rain', 'proximity thunderstorm',\n",
       "        'proximity thunderstorm with drizzle',\n",
       "        'proximity thunderstorm with rain', 'scattered clouds',\n",
       "        'shower drizzle', 'shower snow', 'sky is clear', 'sleet', 'smoke',\n",
       "        'snow', 'thunderstorm', 'thunderstorm with drizzle',\n",
       "        'thunderstorm with heavy rain', 'thunderstorm with light drizzle',\n",
       "        'thunderstorm with light rain', 'thunderstorm with rain',\n",
       "        'very heavy rain'], dtype='<U35'),\n",
       " 'date_time': array(['01-01-2013 00:00', '01-01-2013 01:00', '01-01-2013 02:00', ...,\n",
       "        '31-12-2017 21:00', '31-12-2017 22:00', '31-12-2017 23:00'],\n",
       "       dtype='<U16'),\n",
       " 'traffic_volume': array(['0', '1', '10', ..., '997', '998', '999'], dtype='<U4')}"
      ]
     },
     "execution_count": 87,
     "metadata": {},
     "output_type": "execute_result"
    }
   ],
   "source": [
    "# Check unique values for each column in dataset\n",
    "def return_unique(data):\n",
    "    data_unique = {}\n",
    "    for col in data.columns:\n",
    "        unique_vals = dataset[col].unique()\n",
    "        unique_vals = np.sort([str(i).strip() for i in unique_vals])\n",
    "        data_unique[col] = unique_vals\n",
    "    return data_unique\n",
    "\n",
    "unique_values = return_unique(dataset)\n",
    "unique_values"
   ]
  },
  {
   "cell_type": "markdown",
   "metadata": {},
   "source": [
    "### Dataset cleaning"
   ]
  },
  {
   "cell_type": "code",
   "execution_count": 78,
   "metadata": {},
   "outputs": [],
   "source": [
    "dataset_features = dataset.copy()"
   ]
  },
  {
   "cell_type": "code",
   "execution_count": 79,
   "metadata": {},
   "outputs": [],
   "source": [
    "#Extracting features from date_time variable\n",
    "dataset_features['date_time'] = pd.to_datetime(dataset_features.date_time)\n",
    "dataset_features['weekday'] = dataset_features.date_time.dt.weekday\n",
    "dataset_features['date'] = dataset_features.date_time.dt.date\n",
    "dataset_features['hour'] = dataset_features.date_time.dt.hour\n",
    "dataset_features['month'] = dataset_features.date_time.dt.month\n",
    "dataset_features['year'] = dataset_features.date_time.dt.year"
   ]
  },
  {
   "cell_type": "code",
   "execution_count": 80,
   "metadata": {},
   "outputs": [
    {
     "data": {
      "text/html": [
       "<div>\n",
       "<style scoped>\n",
       "    .dataframe tbody tr th:only-of-type {\n",
       "        vertical-align: middle;\n",
       "    }\n",
       "\n",
       "    .dataframe tbody tr th {\n",
       "        vertical-align: top;\n",
       "    }\n",
       "\n",
       "    .dataframe thead th {\n",
       "        text-align: right;\n",
       "    }\n",
       "</style>\n",
       "<table border=\"1\" class=\"dataframe\">\n",
       "  <thead>\n",
       "    <tr style=\"text-align: right;\">\n",
       "      <th></th>\n",
       "      <th>holiday</th>\n",
       "      <th>temp</th>\n",
       "      <th>rain_1h</th>\n",
       "      <th>snow_1h</th>\n",
       "      <th>clouds_all</th>\n",
       "      <th>weather_main</th>\n",
       "      <th>weather_description</th>\n",
       "      <th>date_time</th>\n",
       "      <th>traffic_volume</th>\n",
       "      <th>weekday</th>\n",
       "      <th>date</th>\n",
       "      <th>hour</th>\n",
       "      <th>month</th>\n",
       "      <th>year</th>\n",
       "    </tr>\n",
       "  </thead>\n",
       "  <tbody>\n",
       "    <tr>\n",
       "      <th>0</th>\n",
       "      <td>None</td>\n",
       "      <td>288.28</td>\n",
       "      <td>0.0</td>\n",
       "      <td>0.0</td>\n",
       "      <td>40</td>\n",
       "      <td>Clouds</td>\n",
       "      <td>scattered clouds</td>\n",
       "      <td>2012-02-10 09:00:00</td>\n",
       "      <td>5545</td>\n",
       "      <td>4</td>\n",
       "      <td>2012-02-10</td>\n",
       "      <td>9</td>\n",
       "      <td>2</td>\n",
       "      <td>2012</td>\n",
       "    </tr>\n",
       "    <tr>\n",
       "      <th>1</th>\n",
       "      <td>None</td>\n",
       "      <td>289.36</td>\n",
       "      <td>0.0</td>\n",
       "      <td>0.0</td>\n",
       "      <td>75</td>\n",
       "      <td>Clouds</td>\n",
       "      <td>broken clouds</td>\n",
       "      <td>2012-02-10 10:00:00</td>\n",
       "      <td>4516</td>\n",
       "      <td>4</td>\n",
       "      <td>2012-02-10</td>\n",
       "      <td>10</td>\n",
       "      <td>2</td>\n",
       "      <td>2012</td>\n",
       "    </tr>\n",
       "    <tr>\n",
       "      <th>2</th>\n",
       "      <td>None</td>\n",
       "      <td>289.58</td>\n",
       "      <td>0.0</td>\n",
       "      <td>0.0</td>\n",
       "      <td>90</td>\n",
       "      <td>Clouds</td>\n",
       "      <td>overcast clouds</td>\n",
       "      <td>2012-02-10 11:00:00</td>\n",
       "      <td>4767</td>\n",
       "      <td>4</td>\n",
       "      <td>2012-02-10</td>\n",
       "      <td>11</td>\n",
       "      <td>2</td>\n",
       "      <td>2012</td>\n",
       "    </tr>\n",
       "    <tr>\n",
       "      <th>3</th>\n",
       "      <td>None</td>\n",
       "      <td>290.13</td>\n",
       "      <td>0.0</td>\n",
       "      <td>0.0</td>\n",
       "      <td>90</td>\n",
       "      <td>Clouds</td>\n",
       "      <td>overcast clouds</td>\n",
       "      <td>2012-02-10 12:00:00</td>\n",
       "      <td>5026</td>\n",
       "      <td>4</td>\n",
       "      <td>2012-02-10</td>\n",
       "      <td>12</td>\n",
       "      <td>2</td>\n",
       "      <td>2012</td>\n",
       "    </tr>\n",
       "    <tr>\n",
       "      <th>4</th>\n",
       "      <td>None</td>\n",
       "      <td>291.14</td>\n",
       "      <td>0.0</td>\n",
       "      <td>0.0</td>\n",
       "      <td>75</td>\n",
       "      <td>Clouds</td>\n",
       "      <td>broken clouds</td>\n",
       "      <td>2012-02-10 13:00:00</td>\n",
       "      <td>4918</td>\n",
       "      <td>4</td>\n",
       "      <td>2012-02-10</td>\n",
       "      <td>13</td>\n",
       "      <td>2</td>\n",
       "      <td>2012</td>\n",
       "    </tr>\n",
       "  </tbody>\n",
       "</table>\n",
       "</div>"
      ],
      "text/plain": [
       "  holiday    temp  rain_1h  snow_1h  clouds_all weather_main  \\\n",
       "0    None  288.28      0.0      0.0          40       Clouds   \n",
       "1    None  289.36      0.0      0.0          75       Clouds   \n",
       "2    None  289.58      0.0      0.0          90       Clouds   \n",
       "3    None  290.13      0.0      0.0          90       Clouds   \n",
       "4    None  291.14      0.0      0.0          75       Clouds   \n",
       "\n",
       "  weather_description           date_time  traffic_volume  weekday  \\\n",
       "0    scattered clouds 2012-02-10 09:00:00            5545        4   \n",
       "1       broken clouds 2012-02-10 10:00:00            4516        4   \n",
       "2     overcast clouds 2012-02-10 11:00:00            4767        4   \n",
       "3     overcast clouds 2012-02-10 12:00:00            5026        4   \n",
       "4       broken clouds 2012-02-10 13:00:00            4918        4   \n",
       "\n",
       "         date  hour  month  year  \n",
       "0  2012-02-10     9      2  2012  \n",
       "1  2012-02-10    10      2  2012  \n",
       "2  2012-02-10    11      2  2012  \n",
       "3  2012-02-10    12      2  2012  \n",
       "4  2012-02-10    13      2  2012  "
      ]
     },
     "execution_count": 80,
     "metadata": {},
     "output_type": "execute_result"
    }
   ],
   "source": [
    "dataset_features.head()"
   ]
  },
  {
   "cell_type": "code",
   "execution_count": 81,
   "metadata": {},
   "outputs": [],
   "source": [
    "#Other holidays are very sparse compared to none holidays as we can see in count analysis\n",
    "def modify_holiday(x):\n",
    "    if x == 'None':\n",
    "        return False\n",
    "    else:\n",
    "        return True\n",
    "dataset_features['holiday'] = dataset_features['holiday'].map(modify_holiday)"
   ]
  },
  {
   "cell_type": "code",
   "execution_count": 83,
   "metadata": {},
   "outputs": [],
   "source": [
    "#Outlier in temp which was detected earlier needs to be removed\n",
    "dataset_features = dataset_features.loc[dataset_features.temp>100]"
   ]
  },
  {
   "cell_type": "code",
   "execution_count": 94,
   "metadata": {},
   "outputs": [],
   "source": [
    "#The weather description mostly describes rain, snow, thunderstorms, fog, mist and haze.\n",
    "# Converting it to\n",
    "#thunderstorm - True where weather description contains Thunderstorm else False\n",
    "#fog - True where weather description contains fog else False\n",
    "#mist - True where weather description contains mist else False\n",
    "#haze - True where weather description contains haze else False"
   ]
  },
  {
   "cell_type": "code",
   "execution_count": 95,
   "metadata": {},
   "outputs": [],
   "source": [
    "dataset_features['weather_description'] = dataset_features['weather_description'].map(lambda x:x.lower())"
   ]
  },
  {
   "cell_type": "code",
   "execution_count": 97,
   "metadata": {},
   "outputs": [],
   "source": [
    "#Any row containing \"thunderstorm\" is replaced by \"thunderstorm\"\n",
    "dataset_features.loc[dataset_features['weather_description'].str.contains('thunderstorm'),'weather_description'] = 'thunderstorm'"
   ]
  },
  {
   "cell_type": "code",
   "execution_count": 99,
   "metadata": {},
   "outputs": [],
   "source": [
    "#Any row containing \"fog\" is replaced by \"fog\"\n",
    "dataset_features.loc[dataset_features['weather_description'].str.contains('fog'),'weather_description'] = 'fog'"
   ]
  },
  {
   "cell_type": "code",
   "execution_count": 100,
   "metadata": {},
   "outputs": [],
   "source": [
    "#Any row containing \"mist\" is replaced by \"mist\"\n",
    "dataset_features.loc[dataset_features['weather_description'].str.contains('mist'),'weather_description'] = 'mist'"
   ]
  },
  {
   "cell_type": "code",
   "execution_count": 101,
   "metadata": {},
   "outputs": [],
   "source": [
    "#Any row containing \"haze\" is replaced by \"haze\"\n",
    "dataset_features.loc[dataset_features['weather_description'].str.contains('haze'),'weather_description'] = 'haze'"
   ]
  },
  {
   "cell_type": "code",
   "execution_count": 103,
   "metadata": {},
   "outputs": [],
   "source": [
    "weather = ['thunderstorm','mist','fog','haze']\n",
    "dataset_features.loc[np.logical_not(dataset_features['weather_description'].isin(weather)),'weather_description'] = 'other'"
   ]
  },
  {
   "cell_type": "code",
   "execution_count": 104,
   "metadata": {},
   "outputs": [
    {
     "data": {
      "text/plain": [
       "other           38938\n",
       "mist             5950\n",
       "haze             1360\n",
       "thunderstorm     1034\n",
       "fog               912\n",
       "Name: weather_description, dtype: int64"
      ]
     },
     "execution_count": 104,
     "metadata": {},
     "output_type": "execute_result"
    }
   ],
   "source": [
    "dataset_features.weather_description.value_counts()"
   ]
  },
  {
   "cell_type": "code",
   "execution_count": 105,
   "metadata": {},
   "outputs": [],
   "source": [
    "dataset_features = pd.get_dummies(columns=['weather_description'],data=dataset_features)"
   ]
  },
  {
   "cell_type": "code",
   "execution_count": 107,
   "metadata": {},
   "outputs": [],
   "source": [
    "dataset_features.rename(columns={'weather_description_fog':'fog', 'weather_description_haze':'haze',\n",
    "                                   'weather_description_mist':'mist', 'weather_description_thunderstorm':'thunderstorm'}, inplace = True)\n",
    "dataset_features.drop(columns = ['weather_description_other', 'weather_main'], inplace = True)"
   ]
  },
  {
   "cell_type": "code",
   "execution_count": 109,
   "metadata": {},
   "outputs": [
    {
     "data": {
      "image/png": "[encoded data removed]",
      "text/plain": [
       "<Figure size 576x432 with 1 Axes>"
      ]
     },
     "metadata": {
      "needs_background": "light"
     },
     "output_type": "display_data"
    }
   ],
   "source": [
    "# We can see outlier in rain_1h column\n",
    "plt.figure(figsize=(8,6))\n",
    "sns.boxplot('rain_1h',data = dataset_features)\n",
    "plt.show()"
   ]
  },
  {
   "cell_type": "code",
   "execution_count": 114,
   "metadata": {},
   "outputs": [
    {
     "data": {
      "text/html": [
       "<div>\n",
       "<style scoped>\n",
       "    .dataframe tbody tr th:only-of-type {\n",
       "        vertical-align: middle;\n",
       "    }\n",
       "\n",
       "    .dataframe tbody tr th {\n",
       "        vertical-align: top;\n",
       "    }\n",
       "\n",
       "    .dataframe thead th {\n",
       "        text-align: right;\n",
       "    }\n",
       "</style>\n",
       "<table border=\"1\" class=\"dataframe\">\n",
       "  <thead>\n",
       "    <tr style=\"text-align: right;\">\n",
       "      <th></th>\n",
       "      <th>holiday</th>\n",
       "      <th>temp</th>\n",
       "      <th>snow_1h</th>\n",
       "      <th>clouds_all</th>\n",
       "      <th>date_time</th>\n",
       "      <th>traffic_volume</th>\n",
       "      <th>weekday</th>\n",
       "      <th>date</th>\n",
       "      <th>hour</th>\n",
       "      <th>month</th>\n",
       "      <th>year</th>\n",
       "      <th>fog</th>\n",
       "      <th>haze</th>\n",
       "      <th>mist</th>\n",
       "      <th>thunderstorm</th>\n",
       "      <th>rain_1h</th>\n",
       "    </tr>\n",
       "  </thead>\n",
       "  <tbody>\n",
       "    <tr>\n",
       "      <th>0</th>\n",
       "      <td>False</td>\n",
       "      <td>288.28</td>\n",
       "      <td>0.0</td>\n",
       "      <td>40</td>\n",
       "      <td>2012-02-10 09:00:00</td>\n",
       "      <td>5545</td>\n",
       "      <td>4</td>\n",
       "      <td>2012-02-10</td>\n",
       "      <td>9</td>\n",
       "      <td>2</td>\n",
       "      <td>2012</td>\n",
       "      <td>0</td>\n",
       "      <td>0</td>\n",
       "      <td>0</td>\n",
       "      <td>0</td>\n",
       "      <td>no_rain</td>\n",
       "    </tr>\n",
       "    <tr>\n",
       "      <th>1</th>\n",
       "      <td>False</td>\n",
       "      <td>289.36</td>\n",
       "      <td>0.0</td>\n",
       "      <td>75</td>\n",
       "      <td>2012-02-10 10:00:00</td>\n",
       "      <td>4516</td>\n",
       "      <td>4</td>\n",
       "      <td>2012-02-10</td>\n",
       "      <td>10</td>\n",
       "      <td>2</td>\n",
       "      <td>2012</td>\n",
       "      <td>0</td>\n",
       "      <td>0</td>\n",
       "      <td>0</td>\n",
       "      <td>0</td>\n",
       "      <td>no_rain</td>\n",
       "    </tr>\n",
       "    <tr>\n",
       "      <th>2</th>\n",
       "      <td>False</td>\n",
       "      <td>289.58</td>\n",
       "      <td>0.0</td>\n",
       "      <td>90</td>\n",
       "      <td>2012-02-10 11:00:00</td>\n",
       "      <td>4767</td>\n",
       "      <td>4</td>\n",
       "      <td>2012-02-10</td>\n",
       "      <td>11</td>\n",
       "      <td>2</td>\n",
       "      <td>2012</td>\n",
       "      <td>0</td>\n",
       "      <td>0</td>\n",
       "      <td>0</td>\n",
       "      <td>0</td>\n",
       "      <td>no_rain</td>\n",
       "    </tr>\n",
       "    <tr>\n",
       "      <th>3</th>\n",
       "      <td>False</td>\n",
       "      <td>290.13</td>\n",
       "      <td>0.0</td>\n",
       "      <td>90</td>\n",
       "      <td>2012-02-10 12:00:00</td>\n",
       "      <td>5026</td>\n",
       "      <td>4</td>\n",
       "      <td>2012-02-10</td>\n",
       "      <td>12</td>\n",
       "      <td>2</td>\n",
       "      <td>2012</td>\n",
       "      <td>0</td>\n",
       "      <td>0</td>\n",
       "      <td>0</td>\n",
       "      <td>0</td>\n",
       "      <td>no_rain</td>\n",
       "    </tr>\n",
       "    <tr>\n",
       "      <th>4</th>\n",
       "      <td>False</td>\n",
       "      <td>291.14</td>\n",
       "      <td>0.0</td>\n",
       "      <td>75</td>\n",
       "      <td>2012-02-10 13:00:00</td>\n",
       "      <td>4918</td>\n",
       "      <td>4</td>\n",
       "      <td>2012-02-10</td>\n",
       "      <td>13</td>\n",
       "      <td>2</td>\n",
       "      <td>2012</td>\n",
       "      <td>0</td>\n",
       "      <td>0</td>\n",
       "      <td>0</td>\n",
       "      <td>0</td>\n",
       "      <td>no_rain</td>\n",
       "    </tr>\n",
       "  </tbody>\n",
       "</table>\n",
       "</div>"
      ],
      "text/plain": [
       "   holiday    temp  snow_1h  clouds_all           date_time  traffic_volume  \\\n",
       "0    False  288.28      0.0          40 2012-02-10 09:00:00            5545   \n",
       "1    False  289.36      0.0          75 2012-02-10 10:00:00            4516   \n",
       "2    False  289.58      0.0          90 2012-02-10 11:00:00            4767   \n",
       "3    False  290.13      0.0          90 2012-02-10 12:00:00            5026   \n",
       "4    False  291.14      0.0          75 2012-02-10 13:00:00            4918   \n",
       "\n",
       "   weekday        date  hour  month  year  fog  haze  mist  thunderstorm  \\\n",
       "0        4  2012-02-10     9      2  2012    0     0     0             0   \n",
       "1        4  2012-02-10    10      2  2012    0     0     0             0   \n",
       "2        4  2012-02-10    11      2  2012    0     0     0             0   \n",
       "3        4  2012-02-10    12      2  2012    0     0     0             0   \n",
       "4        4  2012-02-10    13      2  2012    0     0     0             0   \n",
       "\n",
       "   rain_1h  \n",
       "0  no_rain  \n",
       "1  no_rain  \n",
       "2  no_rain  \n",
       "3  no_rain  \n",
       "4  no_rain  "
      ]
     },
     "execution_count": 114,
     "metadata": {},
     "output_type": "execute_result"
    }
   ],
   "source": [
    "#Removing outlier in rain column and converting numeric data to categories\n",
    "#rain value equal to 0.0 as no_rain\n",
    "#rain value greater than 0.0 is cut into 3 quantiles\n",
    "\n",
    "dataset_features = dataset_features.loc[dataset_features.rain_1h<2000]\n",
    "dataset_features_temp = dataset_features.loc[dataset_features.rain_1h>0]\n",
    "rain_q = pd.DataFrame(pd.qcut(dataset_features_temp['rain_1h'] ,q=3, labels=['light','moderate','heavy']))\n",
    "dataset_cat = dataset_features.merge(rain_q,left_index=True, right_index=True, how='left')\n",
    "dataset_cat['rain_1h_y'] = dataset_cat.rain_1h_y.cat.add_categories('no_rain')\n",
    "dataset_cat['rain_1h_y'].fillna('no_rain', inplace = True) \n",
    "\n",
    "#no_rain is not in the category, adding it and filling\n",
    "dataset_cat.drop(columns=['rain_1h_x'], inplace = True)\n",
    "dataset_cat.rename(columns={'rain_1h_y':'rain_1h'}, inplace = True)\n",
    "dataset_cat.head()"
   ]
  },
  {
   "cell_type": "code",
   "execution_count": 117,
   "metadata": {},
   "outputs": [
    {
     "data": {
      "text/plain": [
       "75"
      ]
     },
     "execution_count": 117,
     "metadata": {},
     "output_type": "execute_result"
    }
   ],
   "source": [
    "dataset_features.snow_1h[dataset_features.snow_1h>0].count()\n",
    "#only 63 observations have snow greater than 0.0, it can be encoded as no_snow and "
   ]
  },
  {
   "cell_type": "code",
   "execution_count": 121,
   "metadata": {},
   "outputs": [],
   "source": [
    "def modify_snow1h(x):\n",
    "    if x==0:\n",
    "        return 'no_snow'\n",
    "    else:\n",
    "        return 'snow'\n",
    "dataset_date = dataset_features.groupby('year').aggregate({'traffic_volume':'mean'})    \n",
    "dataset_date['snow_1h'] = dataset_cat.snow_1h.map(modify_snow1h)"
   ]
  },
  {
   "cell_type": "code",
   "execution_count": 122,
   "metadata": {},
   "outputs": [
    {
     "data": {
      "text/html": [
       "<div>\n",
       "<style scoped>\n",
       "    .dataframe tbody tr th:only-of-type {\n",
       "        vertical-align: middle;\n",
       "    }\n",
       "\n",
       "    .dataframe tbody tr th {\n",
       "        vertical-align: top;\n",
       "    }\n",
       "\n",
       "    .dataframe thead th {\n",
       "        text-align: right;\n",
       "    }\n",
       "</style>\n",
       "<table border=\"1\" class=\"dataframe\">\n",
       "  <thead>\n",
       "    <tr style=\"text-align: right;\">\n",
       "      <th></th>\n",
       "      <th>holiday</th>\n",
       "      <th>temp</th>\n",
       "      <th>rain_1h</th>\n",
       "      <th>snow_1h</th>\n",
       "      <th>clouds_all</th>\n",
       "      <th>date_time</th>\n",
       "      <th>traffic_volume</th>\n",
       "      <th>weekday</th>\n",
       "      <th>date</th>\n",
       "      <th>hour</th>\n",
       "      <th>month</th>\n",
       "      <th>year</th>\n",
       "      <th>fog</th>\n",
       "      <th>haze</th>\n",
       "      <th>mist</th>\n",
       "      <th>thunderstorm</th>\n",
       "    </tr>\n",
       "  </thead>\n",
       "  <tbody>\n",
       "    <tr>\n",
       "      <th>0</th>\n",
       "      <td>False</td>\n",
       "      <td>288.28</td>\n",
       "      <td>0.0</td>\n",
       "      <td>0.0</td>\n",
       "      <td>40</td>\n",
       "      <td>2012-02-10 09:00:00</td>\n",
       "      <td>5545</td>\n",
       "      <td>4</td>\n",
       "      <td>2012-02-10</td>\n",
       "      <td>9</td>\n",
       "      <td>2</td>\n",
       "      <td>2012</td>\n",
       "      <td>0</td>\n",
       "      <td>0</td>\n",
       "      <td>0</td>\n",
       "      <td>0</td>\n",
       "    </tr>\n",
       "    <tr>\n",
       "      <th>1</th>\n",
       "      <td>False</td>\n",
       "      <td>289.36</td>\n",
       "      <td>0.0</td>\n",
       "      <td>0.0</td>\n",
       "      <td>75</td>\n",
       "      <td>2012-02-10 10:00:00</td>\n",
       "      <td>4516</td>\n",
       "      <td>4</td>\n",
       "      <td>2012-02-10</td>\n",
       "      <td>10</td>\n",
       "      <td>2</td>\n",
       "      <td>2012</td>\n",
       "      <td>0</td>\n",
       "      <td>0</td>\n",
       "      <td>0</td>\n",
       "      <td>0</td>\n",
       "    </tr>\n",
       "    <tr>\n",
       "      <th>2</th>\n",
       "      <td>False</td>\n",
       "      <td>289.58</td>\n",
       "      <td>0.0</td>\n",
       "      <td>0.0</td>\n",
       "      <td>90</td>\n",
       "      <td>2012-02-10 11:00:00</td>\n",
       "      <td>4767</td>\n",
       "      <td>4</td>\n",
       "      <td>2012-02-10</td>\n",
       "      <td>11</td>\n",
       "      <td>2</td>\n",
       "      <td>2012</td>\n",
       "      <td>0</td>\n",
       "      <td>0</td>\n",
       "      <td>0</td>\n",
       "      <td>0</td>\n",
       "    </tr>\n",
       "    <tr>\n",
       "      <th>3</th>\n",
       "      <td>False</td>\n",
       "      <td>290.13</td>\n",
       "      <td>0.0</td>\n",
       "      <td>0.0</td>\n",
       "      <td>90</td>\n",
       "      <td>2012-02-10 12:00:00</td>\n",
       "      <td>5026</td>\n",
       "      <td>4</td>\n",
       "      <td>2012-02-10</td>\n",
       "      <td>12</td>\n",
       "      <td>2</td>\n",
       "      <td>2012</td>\n",
       "      <td>0</td>\n",
       "      <td>0</td>\n",
       "      <td>0</td>\n",
       "      <td>0</td>\n",
       "    </tr>\n",
       "    <tr>\n",
       "      <th>4</th>\n",
       "      <td>False</td>\n",
       "      <td>291.14</td>\n",
       "      <td>0.0</td>\n",
       "      <td>0.0</td>\n",
       "      <td>75</td>\n",
       "      <td>2012-02-10 13:00:00</td>\n",
       "      <td>4918</td>\n",
       "      <td>4</td>\n",
       "      <td>2012-02-10</td>\n",
       "      <td>13</td>\n",
       "      <td>2</td>\n",
       "      <td>2012</td>\n",
       "      <td>0</td>\n",
       "      <td>0</td>\n",
       "      <td>0</td>\n",
       "      <td>0</td>\n",
       "    </tr>\n",
       "  </tbody>\n",
       "</table>\n",
       "</div>"
      ],
      "text/plain": [
       "   holiday    temp  rain_1h  snow_1h  clouds_all           date_time  \\\n",
       "0    False  288.28      0.0      0.0          40 2012-02-10 09:00:00   \n",
       "1    False  289.36      0.0      0.0          75 2012-02-10 10:00:00   \n",
       "2    False  289.58      0.0      0.0          90 2012-02-10 11:00:00   \n",
       "3    False  290.13      0.0      0.0          90 2012-02-10 12:00:00   \n",
       "4    False  291.14      0.0      0.0          75 2012-02-10 13:00:00   \n",
       "\n",
       "   traffic_volume  weekday        date  hour  month  year  fog  haze  mist  \\\n",
       "0            5545        4  2012-02-10     9      2  2012    0     0     0   \n",
       "1            4516        4  2012-02-10    10      2  2012    0     0     0   \n",
       "2            4767        4  2012-02-10    11      2  2012    0     0     0   \n",
       "3            5026        4  2012-02-10    12      2  2012    0     0     0   \n",
       "4            4918        4  2012-02-10    13      2  2012    0     0     0   \n",
       "\n",
       "   thunderstorm  \n",
       "0             0  \n",
       "1             0  \n",
       "2             0  \n",
       "3             0  \n",
       "4             0  "
      ]
     },
     "execution_count": 122,
     "metadata": {},
     "output_type": "execute_result"
    }
   ],
   "source": [
    "dataset_features.head()"
   ]
  },
  {
   "cell_type": "code",
   "execution_count": 123,
   "metadata": {},
   "outputs": [],
   "source": [
    "#setting date as index\n",
    "dataset_cat.set_index('date', inplace = True)"
   ]
  },
  {
   "cell_type": "markdown",
   "metadata": {},
   "source": [
    "### Label Encoding"
   ]
  },
  {
   "cell_type": "code",
   "execution_count": 127,
   "metadata": {},
   "outputs": [],
   "source": [
    "target = ['traffic_volume']\n",
    "cat_vars = ['holiday', 'snow_1h','weekday', 'hour', 'month', 'year', 'fog', 'haze','mist', 'thunderstorm', 'rain_1h']\n",
    "num_vars = ['temp','clouds_all']"
   ]
  },
  {
   "cell_type": "code",
   "execution_count": 133,
   "metadata": {},
   "outputs": [],
   "source": [
    "#Creating pipeline to transform data\n",
    "from sklearn.pipeline import Pipeline\n",
    "from sklearn.preprocessing import OneHotEncoder, StandardScaler\n",
    "from sklearn.compose import ColumnTransformer\n",
    "\n",
    "numeric_transformer = Pipeline(steps=[\n",
    "    ('scaler', StandardScaler())])\n",
    "categorical_transformer = Pipeline(steps=[\n",
    "    ('oneHot',OneHotEncoder())])\n",
    "\n",
    "preprocessor = ColumnTransformer(transformers=[\n",
    "    ('num',numeric_transformer,num_vars),\n",
    "    ('cat',categorical_transformer,cat_vars)])\n",
    "\n",
    "dataset_transformed = preprocessor.fit_transform(dataset_cat).toarray()"
   ]
  },
  {
   "cell_type": "code",
   "execution_count": 137,
   "metadata": {},
   "outputs": [
    {
     "data": {
      "text/plain": [
       "array([[ 0.55218363, -0.24022525,  1.        , ...,  0.        ,\n",
       "         0.        ,  1.        ],\n",
       "       [ 0.63717451,  0.65690832,  1.        , ...,  0.        ,\n",
       "         0.        ,  1.        ],\n",
       "       [ 0.65448747,  1.04139413,  1.        , ...,  0.        ,\n",
       "         0.        ,  1.        ],\n",
       "       ...,\n",
       "       [ 0.11542495,  1.04139413,  1.        , ...,  0.        ,\n",
       "         0.        ,  1.        ],\n",
       "       [ 0.06505998,  1.04139413,  1.        , ...,  0.        ,\n",
       "         0.        ,  1.        ],\n",
       "       [ 0.06742084,  1.04139413,  1.        , ...,  0.        ,\n",
       "         0.        ,  1.        ]])"
      ]
     },
     "execution_count": 137,
     "metadata": {},
     "output_type": "execute_result"
    }
   ],
   "source": [
    "dataset_transformed"
   ]
  },
  {
   "cell_type": "markdown",
   "metadata": {},
   "source": [
    "### Splitting Data"
   ]
  },
  {
   "cell_type": "code",
   "execution_count": 143,
   "metadata": {},
   "outputs": [],
   "source": [
    "#Splitting data into train and test data\n",
    "X = dataset_transformed\n",
    "y = dataset_cat.traffic_volume"
   ]
  },
  {
   "cell_type": "code",
   "execution_count": 145,
   "metadata": {},
   "outputs": [
    {
     "data": {
      "text/plain": [
       "date\n",
       "2012-02-10    5545\n",
       "2012-02-10    4516\n",
       "2012-02-10    4767\n",
       "2012-02-10    5026\n",
       "2012-02-10    4918\n",
       "              ... \n",
       "2018-09-30    3543\n",
       "2018-09-30    2781\n",
       "2018-09-30    2159\n",
       "2018-09-30    1450\n",
       "2018-09-30     954\n",
       "Name: traffic_volume, Length: 48193, dtype: int64"
      ]
     },
     "execution_count": 145,
     "metadata": {},
     "output_type": "execute_result"
    }
   ],
   "source": [
    "y"
   ]
  },
  {
   "cell_type": "code",
   "execution_count": 146,
   "metadata": {},
   "outputs": [],
   "source": [
    "from sklearn.model_selection import train_test_split  \n",
    "X_train, X_test, y_train, y_test = train_test_split(X, y, test_size=0.20) "
   ]
  },
  {
   "cell_type": "markdown",
   "metadata": {},
   "source": [
    "## Building Model"
   ]
  },
  {
   "cell_type": "markdown",
   "metadata": {},
   "source": [
    "Since we have a regression type problem, we have Linear or Logistic Regression as options.\n",
    "Since we're predicting traffic volume(which is a continuous data), we'll use Simple Linear Regression here."
   ]
  },
  {
   "cell_type": "markdown",
   "metadata": {},
   "source": [
    "#### Using statsmodel"
   ]
  },
  {
   "cell_type": "code",
   "execution_count": 181,
   "metadata": {},
   "outputs": [],
   "source": [
    "import statsmodels.api as sm\n",
    "stats_model = sm.OLS(y, X).fit()"
   ]
  },
  {
   "cell_type": "code",
   "execution_count": 182,
   "metadata": {},
   "outputs": [],
   "source": [
    "predictions = stats_model.predict(X)"
   ]
  },
  {
   "cell_type": "code",
   "execution_count": 183,
   "metadata": {},
   "outputs": [
    {
     "data": {
      "text/html": [
       "<table class=\"simpletable\">\n",
       "<caption>OLS Regression Results</caption>\n",
       "<tr>\n",
       "  <th>Dep. Variable:</th>     <td>traffic_volume</td>  <th>  R-squared:         </th>  <td>   0.801</td>  \n",
       "</tr>\n",
       "<tr>\n",
       "  <th>Model:</th>                   <td>OLS</td>       <th>  Adj. R-squared:    </th>  <td>   0.801</td>  \n",
       "</tr>\n",
       "<tr>\n",
       "  <th>Method:</th>             <td>Least Squares</td>  <th>  F-statistic:       </th>  <td>   2847.</td>  \n",
       "</tr>\n",
       "<tr>\n",
       "  <th>Date:</th>             <td>Fri, 13 Mar 2020</td> <th>  Prob (F-statistic):</th>   <td>  0.00</td>   \n",
       "</tr>\n",
       "<tr>\n",
       "  <th>Time:</th>                 <td>21:19:57</td>     <th>  Log-Likelihood:    </th> <td>-3.9548e+05</td>\n",
       "</tr>\n",
       "<tr>\n",
       "  <th>No. Observations:</th>      <td> 48193</td>      <th>  AIC:               </th>  <td>7.911e+05</td> \n",
       "</tr>\n",
       "<tr>\n",
       "  <th>Df Residuals:</th>          <td> 48124</td>      <th>  BIC:               </th>  <td>7.917e+05</td> \n",
       "</tr>\n",
       "<tr>\n",
       "  <th>Df Model:</th>              <td>    68</td>      <th>                     </th>      <td> </td>     \n",
       "</tr>\n",
       "<tr>\n",
       "  <th>Covariance Type:</th>      <td>nonrobust</td>    <th>                     </th>      <td> </td>     \n",
       "</tr>\n",
       "</table>\n",
       "<table class=\"simpletable\">\n",
       "<tr>\n",
       "   <td></td>      <th>coef</th>     <th>std err</th>      <th>t</th>      <th>P>|t|</th>  <th>[0.025</th>    <th>0.975]</th>  \n",
       "</tr>\n",
       "<tr>\n",
       "  <th>x1</th>  <td>   81.3455</td> <td>    5.072</td> <td>   16.040</td> <td> 0.000</td> <td>   71.405</td> <td>   91.286</td>\n",
       "</tr>\n",
       "<tr>\n",
       "  <th>x2</th>  <td>  -30.3187</td> <td>    4.296</td> <td>   -7.057</td> <td> 0.000</td> <td>  -38.739</td> <td>  -21.899</td>\n",
       "</tr>\n",
       "<tr>\n",
       "  <th>x3</th>  <td>  445.6793</td> <td>   52.756</td> <td>    8.448</td> <td> 0.000</td> <td>  342.276</td> <td>  549.082</td>\n",
       "</tr>\n",
       "<tr>\n",
       "  <th>x4</th>  <td>  443.6001</td> <td>   69.591</td> <td>    6.374</td> <td> 0.000</td> <td>  307.201</td> <td>  579.999</td>\n",
       "</tr>\n",
       "<tr>\n",
       "  <th>x5</th>  <td>  280.5544</td> <td>  124.118</td> <td>    2.260</td> <td> 0.024</td> <td>   37.281</td> <td>  523.828</td>\n",
       "</tr>\n",
       "<tr>\n",
       "  <th>x6</th>  <td>  536.1505</td> <td>  267.323</td> <td>    2.006</td> <td> 0.045</td> <td>   12.193</td> <td> 1060.107</td>\n",
       "</tr>\n",
       "<tr>\n",
       "  <th>x7</th>  <td> -222.1953</td> <td>  251.589</td> <td>   -0.883</td> <td> 0.377</td> <td> -715.312</td> <td>  270.922</td>\n",
       "</tr>\n",
       "<tr>\n",
       "  <th>x8</th>  <td>   87.7374</td> <td>  266.691</td> <td>    0.329</td> <td> 0.742</td> <td> -434.980</td> <td>  610.455</td>\n",
       "</tr>\n",
       "<tr>\n",
       "  <th>x9</th>  <td>  332.8043</td> <td>  591.853</td> <td>    0.562</td> <td> 0.574</td> <td> -827.235</td> <td> 1492.843</td>\n",
       "</tr>\n",
       "<tr>\n",
       "  <th>x10</th> <td> -729.8330</td> <td>  356.243</td> <td>   -2.049</td> <td> 0.040</td> <td>-1428.075</td> <td>  -31.591</td>\n",
       "</tr>\n",
       "<tr>\n",
       "  <th>x11</th> <td>  584.9948</td> <td>  356.231</td> <td>    1.642</td> <td> 0.101</td> <td> -113.222</td> <td> 1283.212</td>\n",
       "</tr>\n",
       "<tr>\n",
       "  <th>x12</th> <td>  136.3306</td> <td>  488.702</td> <td>    0.279</td> <td> 0.780</td> <td> -821.532</td> <td> 1094.194</td>\n",
       "</tr>\n",
       "<tr>\n",
       "  <th>x13</th> <td>-1490.7499</td> <td>  827.395</td> <td>   -1.802</td> <td> 0.072</td> <td>-3112.456</td> <td>  130.956</td>\n",
       "</tr>\n",
       "<tr>\n",
       "  <th>x14</th> <td>   51.7952</td> <td>  356.361</td> <td>    0.145</td> <td> 0.884</td> <td> -646.678</td> <td>  750.268</td>\n",
       "</tr>\n",
       "<tr>\n",
       "  <th>x15</th> <td>  320.8187</td> <td>  386.527</td> <td>    0.830</td> <td> 0.407</td> <td> -436.780</td> <td> 1078.417</td>\n",
       "</tr>\n",
       "<tr>\n",
       "  <th>x16</th> <td>  517.7019</td> <td>  591.743</td> <td>    0.875</td> <td> 0.382</td> <td> -642.122</td> <td> 1677.526</td>\n",
       "</tr>\n",
       "<tr>\n",
       "  <th>x17</th> <td>  483.1699</td> <td>  356.837</td> <td>    1.354</td> <td> 0.176</td> <td> -216.235</td> <td> 1182.574</td>\n",
       "</tr>\n",
       "<tr>\n",
       "  <th>x18</th> <td>  180.1923</td> <td>   11.576</td> <td>   15.565</td> <td> 0.000</td> <td>  157.502</td> <td>  202.882</td>\n",
       "</tr>\n",
       "<tr>\n",
       "  <th>x19</th> <td>  292.2641</td> <td>   11.750</td> <td>   24.873</td> <td> 0.000</td> <td>  269.234</td> <td>  315.295</td>\n",
       "</tr>\n",
       "<tr>\n",
       "  <th>x20</th> <td>  348.6220</td> <td>   11.729</td> <td>   29.724</td> <td> 0.000</td> <td>  325.634</td> <td>  371.610</td>\n",
       "</tr>\n",
       "<tr>\n",
       "  <th>x21</th> <td>  354.0874</td> <td>   11.799</td> <td>   30.010</td> <td> 0.000</td> <td>  330.961</td> <td>  377.214</td>\n",
       "</tr>\n",
       "<tr>\n",
       "  <th>x22</th> <td>  359.3758</td> <td>   11.713</td> <td>   30.681</td> <td> 0.000</td> <td>  336.418</td> <td>  382.334</td>\n",
       "</tr>\n",
       "<tr>\n",
       "  <th>x23</th> <td> -210.1985</td> <td>   11.756</td> <td>  -17.881</td> <td> 0.000</td> <td> -233.239</td> <td> -187.157</td>\n",
       "</tr>\n",
       "<tr>\n",
       "  <th>x24</th> <td> -435.0637</td> <td>   11.828</td> <td>  -36.782</td> <td> 0.000</td> <td> -458.247</td> <td> -411.880</td>\n",
       "</tr>\n",
       "<tr>\n",
       "  <th>x25</th> <td>-2404.1511</td> <td>   19.513</td> <td> -123.205</td> <td> 0.000</td> <td>-2442.398</td> <td>-2365.905</td>\n",
       "</tr>\n",
       "<tr>\n",
       "  <th>x26</th> <td>-2710.2525</td> <td>   19.319</td> <td> -140.288</td> <td> 0.000</td> <td>-2748.118</td> <td>-2672.387</td>\n",
       "</tr>\n",
       "<tr>\n",
       "  <th>x27</th> <td>-2842.5694</td> <td>   19.469</td> <td> -146.006</td> <td> 0.000</td> <td>-2880.729</td> <td>-2804.410</td>\n",
       "</tr>\n",
       "<tr>\n",
       "  <th>x28</th> <td>-2860.4277</td> <td>   19.456</td> <td> -147.021</td> <td> 0.000</td> <td>-2898.562</td> <td>-2822.294</td>\n",
       "</tr>\n",
       "<tr>\n",
       "  <th>x29</th> <td>-2521.1657</td> <td>   19.181</td> <td> -131.443</td> <td> 0.000</td> <td>-2558.760</td> <td>-2483.571</td>\n",
       "</tr>\n",
       "<tr>\n",
       "  <th>x30</th> <td>-1124.5824</td> <td>   19.312</td> <td>  -58.232</td> <td> 0.000</td> <td>-1162.434</td> <td>-1086.730</td>\n",
       "</tr>\n",
       "<tr>\n",
       "  <th>x31</th> <td>  923.5310</td> <td>   19.216</td> <td>   48.060</td> <td> 0.000</td> <td>  885.867</td> <td>  961.195</td>\n",
       "</tr>\n",
       "<tr>\n",
       "  <th>x32</th> <td> 1527.3746</td> <td>   19.238</td> <td>   79.393</td> <td> 0.000</td> <td> 1489.667</td> <td> 1565.082</td>\n",
       "</tr>\n",
       "<tr>\n",
       "  <th>x33</th> <td> 1370.1528</td> <td>   19.201</td> <td>   71.360</td> <td> 0.000</td> <td> 1332.519</td> <td> 1407.786</td>\n",
       "</tr>\n",
       "<tr>\n",
       "  <th>x34</th> <td> 1158.2526</td> <td>   19.432</td> <td>   59.604</td> <td> 0.000</td> <td> 1120.165</td> <td> 1196.340</td>\n",
       "</tr>\n",
       "<tr>\n",
       "  <th>x35</th> <td>  952.0424</td> <td>   19.176</td> <td>   49.648</td> <td> 0.000</td> <td>  914.458</td> <td>  989.627</td>\n",
       "</tr>\n",
       "<tr>\n",
       "  <th>x36</th> <td> 1221.0070</td> <td>   19.768</td> <td>   61.766</td> <td> 0.000</td> <td> 1182.261</td> <td> 1259.753</td>\n",
       "</tr>\n",
       "<tr>\n",
       "  <th>x37</th> <td> 1466.8815</td> <td>   19.772</td> <td>   74.191</td> <td> 0.000</td> <td> 1428.129</td> <td> 1505.634</td>\n",
       "</tr>\n",
       "<tr>\n",
       "  <th>x38</th> <td> 1458.8778</td> <td>   20.030</td> <td>   72.834</td> <td> 0.000</td> <td> 1419.618</td> <td> 1498.137</td>\n",
       "</tr>\n",
       "<tr>\n",
       "  <th>x39</th> <td> 1675.0141</td> <td>   19.735</td> <td>   84.877</td> <td> 0.000</td> <td> 1636.334</td> <td> 1713.694</td>\n",
       "</tr>\n",
       "<tr>\n",
       "  <th>x40</th> <td> 1973.6694</td> <td>   19.907</td> <td>   99.145</td> <td> 0.000</td> <td> 1934.652</td> <td> 2012.687</td>\n",
       "</tr>\n",
       "<tr>\n",
       "  <th>x41</th> <td> 2401.2260</td> <td>   19.647</td> <td>  122.217</td> <td> 0.000</td> <td> 2362.717</td> <td> 2439.735</td>\n",
       "</tr>\n",
       "<tr>\n",
       "  <th>x42</th> <td> 2046.5921</td> <td>   19.913</td> <td>  102.777</td> <td> 0.000</td> <td> 2007.563</td> <td> 2085.622</td>\n",
       "</tr>\n",
       "<tr>\n",
       "  <th>x43</th> <td>  996.9589</td> <td>   19.644</td> <td>   50.751</td> <td> 0.000</td> <td>  958.456</td> <td> 1035.461</td>\n",
       "</tr>\n",
       "<tr>\n",
       "  <th>x44</th> <td>   14.8262</td> <td>   19.745</td> <td>    0.751</td> <td> 0.453</td> <td>  -23.875</td> <td>   53.527</td>\n",
       "</tr>\n",
       "<tr>\n",
       "  <th>x45</th> <td> -421.3249</td> <td>   19.649</td> <td>  -21.443</td> <td> 0.000</td> <td> -459.837</td> <td> -382.813</td>\n",
       "</tr>\n",
       "<tr>\n",
       "  <th>x46</th> <td> -584.1520</td> <td>   19.617</td> <td>  -29.778</td> <td> 0.000</td> <td> -622.602</td> <td> -545.702</td>\n",
       "</tr>\n",
       "<tr>\n",
       "  <th>x47</th> <td>-1051.0488</td> <td>   19.552</td> <td>  -53.755</td> <td> 0.000</td> <td>-1089.372</td> <td>-1012.726</td>\n",
       "</tr>\n",
       "<tr>\n",
       "  <th>x48</th> <td>-1777.4523</td> <td>   19.346</td> <td>  -91.877</td> <td> 0.000</td> <td>-1815.371</td> <td>-1739.534</td>\n",
       "</tr>\n",
       "<tr>\n",
       "  <th>x49</th> <td>   18.8730</td> <td>   14.678</td> <td>    1.286</td> <td> 0.199</td> <td>   -9.897</td> <td>   47.643</td>\n",
       "</tr>\n",
       "<tr>\n",
       "  <th>x50</th> <td>   79.5701</td> <td>   15.078</td> <td>    5.277</td> <td> 0.000</td> <td>   50.018</td> <td>  109.122</td>\n",
       "</tr>\n",
       "<tr>\n",
       "  <th>x51</th> <td>  169.2158</td> <td>   14.200</td> <td>   11.917</td> <td> 0.000</td> <td>  141.383</td> <td>  197.048</td>\n",
       "</tr>\n",
       "<tr>\n",
       "  <th>x52</th> <td>   47.4379</td> <td>   13.677</td> <td>    3.469</td> <td> 0.001</td> <td>   20.631</td> <td>   74.244</td>\n",
       "</tr>\n",
       "<tr>\n",
       "  <th>x53</th> <td>   27.1374</td> <td>   13.767</td> <td>    1.971</td> <td> 0.049</td> <td>    0.154</td> <td>   54.121</td>\n",
       "</tr>\n",
       "<tr>\n",
       "  <th>x54</th> <td>  138.4878</td> <td>   14.486</td> <td>    9.560</td> <td> 0.000</td> <td>  110.096</td> <td>  166.880</td>\n",
       "</tr>\n",
       "<tr>\n",
       "  <th>x55</th> <td>   62.5156</td> <td>   13.797</td> <td>    4.531</td> <td> 0.000</td> <td>   35.474</td> <td>   89.557</td>\n",
       "</tr>\n",
       "<tr>\n",
       "  <th>x56</th> <td>  149.0864</td> <td>   13.950</td> <td>   10.687</td> <td> 0.000</td> <td>  121.745</td> <td>  176.428</td>\n",
       "</tr>\n",
       "<tr>\n",
       "  <th>x57</th> <td>  144.4034</td> <td>   14.401</td> <td>   10.027</td> <td> 0.000</td> <td>  116.177</td> <td>  172.630</td>\n",
       "</tr>\n",
       "<tr>\n",
       "  <th>x58</th> <td>  116.1113</td> <td>   14.792</td> <td>    7.850</td> <td> 0.000</td> <td>   87.119</td> <td>  145.104</td>\n",
       "</tr>\n",
       "<tr>\n",
       "  <th>x59</th> <td>   -0.0436</td> <td>   14.177</td> <td>   -0.003</td> <td> 0.998</td> <td>  -27.831</td> <td>   27.744</td>\n",
       "</tr>\n",
       "<tr>\n",
       "  <th>x60</th> <td>  -63.5156</td> <td>   14.351</td> <td>   -4.426</td> <td> 0.000</td> <td>  -91.643</td> <td>  -35.388</td>\n",
       "</tr>\n",
       "<tr>\n",
       "  <th>x61</th> <td>  117.3124</td> <td>   17.632</td> <td>    6.653</td> <td> 0.000</td> <td>   82.753</td> <td>  151.872</td>\n",
       "</tr>\n",
       "<tr>\n",
       "  <th>x62</th> <td>  176.5504</td> <td>   11.348</td> <td>   15.558</td> <td> 0.000</td> <td>  154.308</td> <td>  198.792</td>\n",
       "</tr>\n",
       "<tr>\n",
       "  <th>x63</th> <td>  143.1854</td> <td>   13.856</td> <td>   10.334</td> <td> 0.000</td> <td>  116.028</td> <td>  170.343</td>\n",
       "</tr>\n",
       "<tr>\n",
       "  <th>x64</th> <td>   75.6362</td> <td>   13.846</td> <td>    5.463</td> <td> 0.000</td> <td>   48.498</td> <td>  102.774</td>\n",
       "</tr>\n",
       "<tr>\n",
       "  <th>x65</th> <td>   54.3895</td> <td>   10.948</td> <td>    4.968</td> <td> 0.000</td> <td>   32.932</td> <td>   75.847</td>\n",
       "</tr>\n",
       "<tr>\n",
       "  <th>x66</th> <td>  222.5568</td> <td>   10.809</td> <td>   20.590</td> <td> 0.000</td> <td>  201.371</td> <td>  243.742</td>\n",
       "</tr>\n",
       "<tr>\n",
       "  <th>x67</th> <td>   99.6487</td> <td>   11.599</td> <td>    8.591</td> <td> 0.000</td> <td>   76.914</td> <td>  122.383</td>\n",
       "</tr>\n",
       "<tr>\n",
       "  <th>x68</th> <td>  489.7997</td> <td>   25.183</td> <td>   19.450</td> <td> 0.000</td> <td>  440.442</td> <td>  539.158</td>\n",
       "</tr>\n",
       "<tr>\n",
       "  <th>x69</th> <td>  399.4797</td> <td>   27.933</td> <td>   14.301</td> <td> 0.000</td> <td>  344.730</td> <td>  454.229</td>\n",
       "</tr>\n",
       "<tr>\n",
       "  <th>x70</th> <td>  471.5272</td> <td>   24.153</td> <td>   19.522</td> <td> 0.000</td> <td>  424.186</td> <td>  518.868</td>\n",
       "</tr>\n",
       "<tr>\n",
       "  <th>x71</th> <td>  417.7522</td> <td>   26.196</td> <td>   15.947</td> <td> 0.000</td> <td>  366.407</td> <td>  469.098</td>\n",
       "</tr>\n",
       "<tr>\n",
       "  <th>x72</th> <td>  456.3828</td> <td>   22.638</td> <td>   20.160</td> <td> 0.000</td> <td>  412.011</td> <td>  500.754</td>\n",
       "</tr>\n",
       "<tr>\n",
       "  <th>x73</th> <td>  432.8966</td> <td>   23.116</td> <td>   18.727</td> <td> 0.000</td> <td>  387.588</td> <td>  478.205</td>\n",
       "</tr>\n",
       "<tr>\n",
       "  <th>x74</th> <td>  508.5041</td> <td>   25.068</td> <td>   20.285</td> <td> 0.000</td> <td>  459.371</td> <td>  557.638</td>\n",
       "</tr>\n",
       "<tr>\n",
       "  <th>x75</th> <td>  380.7753</td> <td>   27.434</td> <td>   13.880</td> <td> 0.000</td> <td>  327.005</td> <td>  434.545</td>\n",
       "</tr>\n",
       "<tr>\n",
       "  <th>x76</th> <td>  111.1896</td> <td>   24.917</td> <td>    4.462</td> <td> 0.000</td> <td>   62.352</td> <td>  160.027</td>\n",
       "</tr>\n",
       "<tr>\n",
       "  <th>x77</th> <td>  179.2766</td> <td>   24.583</td> <td>    7.293</td> <td> 0.000</td> <td>  131.093</td> <td>  227.460</td>\n",
       "</tr>\n",
       "<tr>\n",
       "  <th>x78</th> <td>  330.9454</td> <td>   24.378</td> <td>   13.575</td> <td> 0.000</td> <td>  283.163</td> <td>  378.727</td>\n",
       "</tr>\n",
       "<tr>\n",
       "  <th>x79</th> <td>  267.8678</td> <td>   16.078</td> <td>   16.661</td> <td> 0.000</td> <td>  236.355</td> <td>  299.381</td>\n",
       "</tr>\n",
       "</table>\n",
       "<table class=\"simpletable\">\n",
       "<tr>\n",
       "  <th>Omnibus:</th>       <td>9866.324</td> <th>  Durbin-Watson:     </th> <td>   0.281</td> \n",
       "</tr>\n",
       "<tr>\n",
       "  <th>Prob(Omnibus):</th>  <td> 0.000</td>  <th>  Jarque-Bera (JB):  </th> <td>28029.209</td>\n",
       "</tr>\n",
       "<tr>\n",
       "  <th>Skew:</th>           <td>-1.084</td>  <th>  Prob(JB):          </th> <td>    0.00</td> \n",
       "</tr>\n",
       "<tr>\n",
       "  <th>Kurtosis:</th>       <td> 6.043</td>  <th>  Cond. No.          </th> <td>1.51e+16</td> \n",
       "</tr>\n",
       "</table><br/><br/>Warnings:<br/>[1] Standard Errors assume that the covariance matrix of the errors is correctly specified.<br/>[2] The smallest eigenvalue is 1.48e-27. This might indicate that there are<br/>strong multicollinearity problems or that the design matrix is singular."
      ],
      "text/plain": [
       "<class 'statsmodels.iolib.summary.Summary'>\n",
       "\"\"\"\n",
       "                            OLS Regression Results                            \n",
       "==============================================================================\n",
       "Dep. Variable:         traffic_volume   R-squared:                       0.801\n",
       "Model:                            OLS   Adj. R-squared:                  0.801\n",
       "Method:                 Least Squares   F-statistic:                     2847.\n",
       "Date:                Fri, 13 Mar 2020   Prob (F-statistic):               0.00\n",
       "Time:                        21:19:57   Log-Likelihood:            -3.9548e+05\n",
       "No. Observations:               48193   AIC:                         7.911e+05\n",
       "Df Residuals:                   48124   BIC:                         7.917e+05\n",
       "Df Model:                          68                                         \n",
       "Covariance Type:            nonrobust                                         \n",
       "==============================================================================\n",
       "                 coef    std err          t      P>|t|      [0.025      0.975]\n",
       "------------------------------------------------------------------------------\n",
       "x1            81.3455      5.072     16.040      0.000      71.405      91.286\n",
       "x2           -30.3187      4.296     -7.057      0.000     -38.739     -21.899\n",
       "x3           445.6793     52.756      8.448      0.000     342.276     549.082\n",
       "x4           443.6001     69.591      6.374      0.000     307.201     579.999\n",
       "x5           280.5544    124.118      2.260      0.024      37.281     523.828\n",
       "x6           536.1505    267.323      2.006      0.045      12.193    1060.107\n",
       "x7          -222.1953    251.589     -0.883      0.377    -715.312     270.922\n",
       "x8            87.7374    266.691      0.329      0.742    -434.980     610.455\n",
       "x9           332.8043    591.853      0.562      0.574    -827.235    1492.843\n",
       "x10         -729.8330    356.243     -2.049      0.040   -1428.075     -31.591\n",
       "x11          584.9948    356.231      1.642      0.101    -113.222    1283.212\n",
       "x12          136.3306    488.702      0.279      0.780    -821.532    1094.194\n",
       "x13        -1490.7499    827.395     -1.802      0.072   -3112.456     130.956\n",
       "x14           51.7952    356.361      0.145      0.884    -646.678     750.268\n",
       "x15          320.8187    386.527      0.830      0.407    -436.780    1078.417\n",
       "x16          517.7019    591.743      0.875      0.382    -642.122    1677.526\n",
       "x17          483.1699    356.837      1.354      0.176    -216.235    1182.574\n",
       "x18          180.1923     11.576     15.565      0.000     157.502     202.882\n",
       "x19          292.2641     11.750     24.873      0.000     269.234     315.295\n",
       "x20          348.6220     11.729     29.724      0.000     325.634     371.610\n",
       "x21          354.0874     11.799     30.010      0.000     330.961     377.214\n",
       "x22          359.3758     11.713     30.681      0.000     336.418     382.334\n",
       "x23         -210.1985     11.756    -17.881      0.000    -233.239    -187.157\n",
       "x24         -435.0637     11.828    -36.782      0.000    -458.247    -411.880\n",
       "x25        -2404.1511     19.513   -123.205      0.000   -2442.398   -2365.905\n",
       "x26        -2710.2525     19.319   -140.288      0.000   -2748.118   -2672.387\n",
       "x27        -2842.5694     19.469   -146.006      0.000   -2880.729   -2804.410\n",
       "x28        -2860.4277     19.456   -147.021      0.000   -2898.562   -2822.294\n",
       "x29        -2521.1657     19.181   -131.443      0.000   -2558.760   -2483.571\n",
       "x30        -1124.5824     19.312    -58.232      0.000   -1162.434   -1086.730\n",
       "x31          923.5310     19.216     48.060      0.000     885.867     961.195\n",
       "x32         1527.3746     19.238     79.393      0.000    1489.667    1565.082\n",
       "x33         1370.1528     19.201     71.360      0.000    1332.519    1407.786\n",
       "x34         1158.2526     19.432     59.604      0.000    1120.165    1196.340\n",
       "x35          952.0424     19.176     49.648      0.000     914.458     989.627\n",
       "x36         1221.0070     19.768     61.766      0.000    1182.261    1259.753\n",
       "x37         1466.8815     19.772     74.191      0.000    1428.129    1505.634\n",
       "x38         1458.8778     20.030     72.834      0.000    1419.618    1498.137\n",
       "x39         1675.0141     19.735     84.877      0.000    1636.334    1713.694\n",
       "x40         1973.6694     19.907     99.145      0.000    1934.652    2012.687\n",
       "x41         2401.2260     19.647    122.217      0.000    2362.717    2439.735\n",
       "x42         2046.5921     19.913    102.777      0.000    2007.563    2085.622\n",
       "x43          996.9589     19.644     50.751      0.000     958.456    1035.461\n",
       "x44           14.8262     19.745      0.751      0.453     -23.875      53.527\n",
       "x45         -421.3249     19.649    -21.443      0.000    -459.837    -382.813\n",
       "x46         -584.1520     19.617    -29.778      0.000    -622.602    -545.702\n",
       "x47        -1051.0488     19.552    -53.755      0.000   -1089.372   -1012.726\n",
       "x48        -1777.4523     19.346    -91.877      0.000   -1815.371   -1739.534\n",
       "x49           18.8730     14.678      1.286      0.199      -9.897      47.643\n",
       "x50           79.5701     15.078      5.277      0.000      50.018     109.122\n",
       "x51          169.2158     14.200     11.917      0.000     141.383     197.048\n",
       "x52           47.4379     13.677      3.469      0.001      20.631      74.244\n",
       "x53           27.1374     13.767      1.971      0.049       0.154      54.121\n",
       "x54          138.4878     14.486      9.560      0.000     110.096     166.880\n",
       "x55           62.5156     13.797      4.531      0.000      35.474      89.557\n",
       "x56          149.0864     13.950     10.687      0.000     121.745     176.428\n",
       "x57          144.4034     14.401     10.027      0.000     116.177     172.630\n",
       "x58          116.1113     14.792      7.850      0.000      87.119     145.104\n",
       "x59           -0.0436     14.177     -0.003      0.998     -27.831      27.744\n",
       "x60          -63.5156     14.351     -4.426      0.000     -91.643     -35.388\n",
       "x61          117.3124     17.632      6.653      0.000      82.753     151.872\n",
       "x62          176.5504     11.348     15.558      0.000     154.308     198.792\n",
       "x63          143.1854     13.856     10.334      0.000     116.028     170.343\n",
       "x64           75.6362     13.846      5.463      0.000      48.498     102.774\n",
       "x65           54.3895     10.948      4.968      0.000      32.932      75.847\n",
       "x66          222.5568     10.809     20.590      0.000     201.371     243.742\n",
       "x67           99.6487     11.599      8.591      0.000      76.914     122.383\n",
       "x68          489.7997     25.183     19.450      0.000     440.442     539.158\n",
       "x69          399.4797     27.933     14.301      0.000     344.730     454.229\n",
       "x70          471.5272     24.153     19.522      0.000     424.186     518.868\n",
       "x71          417.7522     26.196     15.947      0.000     366.407     469.098\n",
       "x72          456.3828     22.638     20.160      0.000     412.011     500.754\n",
       "x73          432.8966     23.116     18.727      0.000     387.588     478.205\n",
       "x74          508.5041     25.068     20.285      0.000     459.371     557.638\n",
       "x75          380.7753     27.434     13.880      0.000     327.005     434.545\n",
       "x76          111.1896     24.917      4.462      0.000      62.352     160.027\n",
       "x77          179.2766     24.583      7.293      0.000     131.093     227.460\n",
       "x78          330.9454     24.378     13.575      0.000     283.163     378.727\n",
       "x79          267.8678     16.078     16.661      0.000     236.355     299.381\n",
       "==============================================================================\n",
       "Omnibus:                     9866.324   Durbin-Watson:                   0.281\n",
       "Prob(Omnibus):                  0.000   Jarque-Bera (JB):            28029.209\n",
       "Skew:                          -1.084   Prob(JB):                         0.00\n",
       "Kurtosis:                       6.043   Cond. No.                     1.51e+16\n",
       "==============================================================================\n",
       "\n",
       "Warnings:\n",
       "[1] Standard Errors assume that the covariance matrix of the errors is correctly specified.\n",
       "[2] The smallest eigenvalue is 1.48e-27. This might indicate that there are\n",
       "strong multicollinearity problems or that the design matrix is singular.\n",
       "\"\"\""
      ]
     },
     "execution_count": 183,
     "metadata": {},
     "output_type": "execute_result"
    }
   ],
   "source": [
    "# Print out the statistics\n",
    "stats_model.summary()"
   ]
  },
  {
   "cell_type": "markdown",
   "metadata": {},
   "source": [
    "We can see that the R-squared value is 0.801"
   ]
  },
  {
   "cell_type": "markdown",
   "metadata": {},
   "source": [
    "#### Using sklearn"
   ]
  },
  {
   "cell_type": "code",
   "execution_count": 179,
   "metadata": {},
   "outputs": [],
   "source": [
    "from sklearn import linear_model"
   ]
  },
  {
   "cell_type": "code",
   "execution_count": 180,
   "metadata": {},
   "outputs": [],
   "source": [
    "lm = linear_model.LinearRegression()\n",
    "sklearn_model = lm.fit(X,y)"
   ]
  },
  {
   "cell_type": "code",
   "execution_count": 184,
   "metadata": {},
   "outputs": [],
   "source": [
    "predictions = lm.predict(X)"
   ]
  },
  {
   "cell_type": "code",
   "execution_count": 186,
   "metadata": {},
   "outputs": [
    {
     "data": {
      "text/plain": [
       "0.800908742651367"
      ]
     },
     "execution_count": 186,
     "metadata": {},
     "output_type": "execute_result"
    }
   ],
   "source": [
    "# getting R-squared score\n",
    "lm.score(X,y)"
   ]
  },
  {
   "cell_type": "markdown",
   "metadata": {},
   "source": [
    "As we can see, using both statsmodel and sklearn, we obtain R-squared value of 80%"
   ]
  },
  {
   "cell_type": "markdown",
   "metadata": {},
   "source": [
    "### Saving final model"
   ]
  },
  {
   "cell_type": "code",
   "execution_count": 187,
   "metadata": {},
   "outputs": [],
   "source": [
    "import statsmodels.api as sm\n",
    "final_model = sm.OLS(y, X).fit()"
   ]
  },
  {
   "cell_type": "code",
   "execution_count": 188,
   "metadata": {},
   "outputs": [],
   "source": [
    "import joblib"
   ]
  },
  {
   "cell_type": "code",
   "execution_count": 189,
   "metadata": {},
   "outputs": [
    {
     "data": {
      "text/plain": [
       "['traffic_vol.h5']"
      ]
     },
     "execution_count": 189,
     "metadata": {},
     "output_type": "execute_result"
    }
   ],
   "source": [
    "joblib.dump(final_model, 'traffic_vol.h5')"
   ]
  }
 ],
 "metadata": {
  "kernelspec": {
   "display_name": "Python 3",
   "language": "python",
   "name": "python3"
  },
  "language_info": {
   "codemirror_mode": {
    "name": "ipython",
    "version": 3
   },
   "file_extension": ".py",
   "mimetype": "text/x-python",
   "name": "python",
   "nbconvert_exporter": "python",
   "pygments_lexer": "ipython3",
   "version": "3.8.3"
  }
 },
 "nbformat": 4,
 "nbformat_minor": 4
}
