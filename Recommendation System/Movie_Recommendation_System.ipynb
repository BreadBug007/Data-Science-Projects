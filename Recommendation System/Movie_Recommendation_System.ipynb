{
  "nbformat": 4,
  "nbformat_minor": 0,
  "metadata": {
    "colab": {
      "name": "Movie_Recommendation_System.ipynb",
      "provenance": [],
      "collapsed_sections": [
        "lqN_KZV92OKj"
      ]
    },
    "kernelspec": {
      "name": "python3",
      "display_name": "Python 3"
    }
  },
  "cells": [
    {
      "cell_type": "code",
      "metadata": {
        "id": "kkgeR6pW332c"
      },
      "source": [
        "import re\r\n",
        "import os\r\n",
        "import random\r\n",
        "import pandas as pd\r\n",
        "import numpy as np\r\n",
        "from tqdm import tqdm\r\n",
        "from collections import defaultdict\r\n",
        "from gensim.models import Word2Vec\r\n",
        "\r\n",
        "import warnings\r\n",
        "warnings.filterwarnings(\"ignore\")"
      ],
      "execution_count": null,
      "outputs": []
    },
    {
      "cell_type": "markdown",
      "metadata": {
        "id": "BPk_U9zC4F-g"
      },
      "source": [
        "## Loading Datasets"
      ]
    },
    {
      "cell_type": "code",
      "metadata": {
        "id": "-AXTJgJd38On"
      },
      "source": [
        "drive_dir = '/content/drive/MyDrive/ML Datasets/'"
      ],
      "execution_count": null,
      "outputs": []
    },
    {
      "cell_type": "code",
      "metadata": {
        "id": "AMJpvMf34KKZ"
      },
      "source": [
        "# dataset obtained from http://files.grouplens.org/datasets/movielens/ml-latest-small.zip\r\n",
        "ratings_df = pd.read_csv(os.path.join(drive_dir, 'ml-latest-small/ratings.csv'))\r\n",
        "movies_df = pd.read_csv(os.path.join(drive_dir, 'ml-latest-small/movies.csv'))"
      ],
      "execution_count": null,
      "outputs": []
    },
    {
      "cell_type": "code",
      "metadata": {
        "colab": {
          "base_uri": "https://localhost:8080/"
        },
        "id": "e2Ui_Mt74Kem",
        "outputId": "4345ea3a-d34d-4e2b-9925-57bbeebe8287"
      },
      "source": [
        "print(\"Ratings: \", ratings_df.shape)\r\n",
        "print(\"Movies: \", movies_df.shape)"
      ],
      "execution_count": null,
      "outputs": [
        {
          "output_type": "stream",
          "text": [
            "Ratings:  (100836, 4)\n",
            "Movies:  (9742, 3)\n"
          ],
          "name": "stdout"
        }
      ]
    },
    {
      "cell_type": "code",
      "metadata": {
        "colab": {
          "base_uri": "https://localhost:8080/"
        },
        "id": "qyTkxA3i5YqC",
        "outputId": "d2c9389a-be3d-4c0c-fa52-6115597a2d97"
      },
      "source": [
        "ratings_df.head(10)"
      ],
      "execution_count": null,
      "outputs": [
        {
          "output_type": "execute_result",
          "data": {
            "text/html": [
              "<div>\n",
              "<style scoped>\n",
              "    .dataframe tbody tr th:only-of-type {\n",
              "        vertical-align: middle;\n",
              "    }\n",
              "\n",
              "    .dataframe tbody tr th {\n",
              "        vertical-align: top;\n",
              "    }\n",
              "\n",
              "    .dataframe thead th {\n",
              "        text-align: right;\n",
              "    }\n",
              "</style>\n",
              "<table border=\"1\" class=\"dataframe\">\n",
              "  <thead>\n",
              "    <tr style=\"text-align: right;\">\n",
              "      <th></th>\n",
              "      <th>userId</th>\n",
              "      <th>movieId</th>\n",
              "      <th>rating</th>\n",
              "      <th>timestamp</th>\n",
              "    </tr>\n",
              "  </thead>\n",
              "  <tbody>\n",
              "    <tr>\n",
              "      <th>0</th>\n",
              "      <td>1</td>\n",
              "      <td>1</td>\n",
              "      <td>4.0</td>\n",
              "      <td>964982703</td>\n",
              "    </tr>\n",
              "    <tr>\n",
              "      <th>1</th>\n",
              "      <td>1</td>\n",
              "      <td>3</td>\n",
              "      <td>4.0</td>\n",
              "      <td>964981247</td>\n",
              "    </tr>\n",
              "    <tr>\n",
              "      <th>2</th>\n",
              "      <td>1</td>\n",
              "      <td>6</td>\n",
              "      <td>4.0</td>\n",
              "      <td>964982224</td>\n",
              "    </tr>\n",
              "    <tr>\n",
              "      <th>3</th>\n",
              "      <td>1</td>\n",
              "      <td>47</td>\n",
              "      <td>5.0</td>\n",
              "      <td>964983815</td>\n",
              "    </tr>\n",
              "    <tr>\n",
              "      <th>4</th>\n",
              "      <td>1</td>\n",
              "      <td>50</td>\n",
              "      <td>5.0</td>\n",
              "      <td>964982931</td>\n",
              "    </tr>\n",
              "    <tr>\n",
              "      <th>5</th>\n",
              "      <td>1</td>\n",
              "      <td>70</td>\n",
              "      <td>3.0</td>\n",
              "      <td>964982400</td>\n",
              "    </tr>\n",
              "    <tr>\n",
              "      <th>6</th>\n",
              "      <td>1</td>\n",
              "      <td>101</td>\n",
              "      <td>5.0</td>\n",
              "      <td>964980868</td>\n",
              "    </tr>\n",
              "    <tr>\n",
              "      <th>7</th>\n",
              "      <td>1</td>\n",
              "      <td>110</td>\n",
              "      <td>4.0</td>\n",
              "      <td>964982176</td>\n",
              "    </tr>\n",
              "    <tr>\n",
              "      <th>8</th>\n",
              "      <td>1</td>\n",
              "      <td>151</td>\n",
              "      <td>5.0</td>\n",
              "      <td>964984041</td>\n",
              "    </tr>\n",
              "    <tr>\n",
              "      <th>9</th>\n",
              "      <td>1</td>\n",
              "      <td>157</td>\n",
              "      <td>5.0</td>\n",
              "      <td>964984100</td>\n",
              "    </tr>\n",
              "  </tbody>\n",
              "</table>\n",
              "</div>"
            ],
            "text/plain": [
              "   userId  movieId  rating  timestamp\n",
              "0       1        1     4.0  964982703\n",
              "1       1        3     4.0  964981247\n",
              "2       1        6     4.0  964982224\n",
              "3       1       47     5.0  964983815\n",
              "4       1       50     5.0  964982931\n",
              "5       1       70     3.0  964982400\n",
              "6       1      101     5.0  964980868\n",
              "7       1      110     4.0  964982176\n",
              "8       1      151     5.0  964984041\n",
              "9       1      157     5.0  964984100"
            ]
          },
          "metadata": {
            "tags": []
          },
          "execution_count": 5
        }
      ]
    },
    {
      "cell_type": "code",
      "metadata": {
        "id": "YdNIO19j5pCZ",
        "colab": {
          "base_uri": "https://localhost:8080/"
        },
        "outputId": "68eef44a-0dae-4e95-a388-d82c4eb48617"
      },
      "source": [
        "movies_df.head(10)"
      ],
      "execution_count": null,
      "outputs": [
        {
          "output_type": "execute_result",
          "data": {
            "text/html": [
              "<div>\n",
              "<style scoped>\n",
              "    .dataframe tbody tr th:only-of-type {\n",
              "        vertical-align: middle;\n",
              "    }\n",
              "\n",
              "    .dataframe tbody tr th {\n",
              "        vertical-align: top;\n",
              "    }\n",
              "\n",
              "    .dataframe thead th {\n",
              "        text-align: right;\n",
              "    }\n",
              "</style>\n",
              "<table border=\"1\" class=\"dataframe\">\n",
              "  <thead>\n",
              "    <tr style=\"text-align: right;\">\n",
              "      <th></th>\n",
              "      <th>movieId</th>\n",
              "      <th>title</th>\n",
              "      <th>genres</th>\n",
              "    </tr>\n",
              "  </thead>\n",
              "  <tbody>\n",
              "    <tr>\n",
              "      <th>0</th>\n",
              "      <td>1</td>\n",
              "      <td>Toy Story (1995)</td>\n",
              "      <td>Adventure|Animation|Children|Comedy|Fantasy</td>\n",
              "    </tr>\n",
              "    <tr>\n",
              "      <th>1</th>\n",
              "      <td>2</td>\n",
              "      <td>Jumanji (1995)</td>\n",
              "      <td>Adventure|Children|Fantasy</td>\n",
              "    </tr>\n",
              "    <tr>\n",
              "      <th>2</th>\n",
              "      <td>3</td>\n",
              "      <td>Grumpier Old Men (1995)</td>\n",
              "      <td>Comedy|Romance</td>\n",
              "    </tr>\n",
              "    <tr>\n",
              "      <th>3</th>\n",
              "      <td>4</td>\n",
              "      <td>Waiting to Exhale (1995)</td>\n",
              "      <td>Comedy|Drama|Romance</td>\n",
              "    </tr>\n",
              "    <tr>\n",
              "      <th>4</th>\n",
              "      <td>5</td>\n",
              "      <td>Father of the Bride Part II (1995)</td>\n",
              "      <td>Comedy</td>\n",
              "    </tr>\n",
              "    <tr>\n",
              "      <th>5</th>\n",
              "      <td>6</td>\n",
              "      <td>Heat (1995)</td>\n",
              "      <td>Action|Crime|Thriller</td>\n",
              "    </tr>\n",
              "    <tr>\n",
              "      <th>6</th>\n",
              "      <td>7</td>\n",
              "      <td>Sabrina (1995)</td>\n",
              "      <td>Comedy|Romance</td>\n",
              "    </tr>\n",
              "    <tr>\n",
              "      <th>7</th>\n",
              "      <td>8</td>\n",
              "      <td>Tom and Huck (1995)</td>\n",
              "      <td>Adventure|Children</td>\n",
              "    </tr>\n",
              "    <tr>\n",
              "      <th>8</th>\n",
              "      <td>9</td>\n",
              "      <td>Sudden Death (1995)</td>\n",
              "      <td>Action</td>\n",
              "    </tr>\n",
              "    <tr>\n",
              "      <th>9</th>\n",
              "      <td>10</td>\n",
              "      <td>GoldenEye (1995)</td>\n",
              "      <td>Action|Adventure|Thriller</td>\n",
              "    </tr>\n",
              "  </tbody>\n",
              "</table>\n",
              "</div>"
            ],
            "text/plain": [
              "   movieId  ...                                       genres\n",
              "0        1  ...  Adventure|Animation|Children|Comedy|Fantasy\n",
              "1        2  ...                   Adventure|Children|Fantasy\n",
              "2        3  ...                               Comedy|Romance\n",
              "3        4  ...                         Comedy|Drama|Romance\n",
              "4        5  ...                                       Comedy\n",
              "5        6  ...                        Action|Crime|Thriller\n",
              "6        7  ...                               Comedy|Romance\n",
              "7        8  ...                           Adventure|Children\n",
              "8        9  ...                                       Action\n",
              "9       10  ...                    Action|Adventure|Thriller\n",
              "\n",
              "[10 rows x 3 columns]"
            ]
          },
          "metadata": {
            "tags": []
          },
          "execution_count": 6
        }
      ]
    },
    {
      "cell_type": "code",
      "metadata": {
        "colab": {
          "base_uri": "https://localhost:8080/"
        },
        "id": "KlK3OM-j1jb6",
        "outputId": "d178f8a4-39b3-48a7-b107-f4bc059f574d"
      },
      "source": [
        "ratings_df.isnull().sum()"
      ],
      "execution_count": null,
      "outputs": [
        {
          "output_type": "execute_result",
          "data": {
            "text/plain": [
              "userId       0\n",
              "movieId      0\n",
              "rating       0\n",
              "timestamp    0\n",
              "dtype: int64"
            ]
          },
          "metadata": {
            "tags": []
          },
          "execution_count": 7
        }
      ]
    },
    {
      "cell_type": "code",
      "metadata": {
        "colab": {
          "base_uri": "https://localhost:8080/"
        },
        "id": "PJ01yLHL1yGD",
        "outputId": "c447d248-7db8-4cae-e1d1-48f7dfdc83ba"
      },
      "source": [
        "movies_df.isnull().sum()"
      ],
      "execution_count": null,
      "outputs": [
        {
          "output_type": "execute_result",
          "data": {
            "text/plain": [
              "movieId    0\n",
              "title      0\n",
              "genres     0\n",
              "dtype: int64"
            ]
          },
          "metadata": {
            "tags": []
          },
          "execution_count": 8
        }
      ]
    },
    {
      "cell_type": "markdown",
      "metadata": {
        "id": "lqN_KZV92OKj"
      },
      "source": [
        "## Preparing Data"
      ]
    },
    {
      "cell_type": "code",
      "metadata": {
        "id": "mu9wH-7U6q8N"
      },
      "source": [
        "# converting stockcode to str type\r\n",
        "ratings_df['movieId']= ratings_df['movieId'].astype(str)"
      ],
      "execution_count": null,
      "outputs": []
    },
    {
      "cell_type": "code",
      "metadata": {
        "colab": {
          "base_uri": "https://localhost:8080/"
        },
        "id": "q05Wsuy910py",
        "outputId": "f3db9f06-f8a4-4e4e-c3b6-8a5c811463ea"
      },
      "source": [
        "users = ratings_df['userId'].unique().tolist()\r\n",
        "len(users)"
      ],
      "execution_count": null,
      "outputs": [
        {
          "output_type": "execute_result",
          "data": {
            "text/plain": [
              "610"
            ]
          },
          "metadata": {
            "tags": []
          },
          "execution_count": 10
        }
      ]
    },
    {
      "cell_type": "markdown",
      "metadata": {
        "id": "Oz2HzEP62wnE"
      },
      "source": [
        "Splitting datasets for training and testing"
      ]
    },
    {
      "cell_type": "code",
      "metadata": {
        "colab": {
          "base_uri": "https://localhost:8080/"
        },
        "id": "AxkxYZO1247g",
        "outputId": "c6397f59-f149-4520-b455-ca2d5d5ba321"
      },
      "source": [
        "# shuffle userIds\r\n",
        "random.shuffle(users)\r\n",
        "\r\n",
        "# extract 90% of userIds for training\r\n",
        "users_train = [users[i] for i in range(round(0.9 * len(users)))]\r\n",
        "\r\n",
        "# split ratings and movies datasets into training and validation\r\n",
        "ratings_train = ratings_df[ratings_df['userId'].isin(users_train)]\r\n",
        "ratings_val = ratings_df[~ratings_df['userId'].isin(users_train)]\r\n",
        "print(\"Ratings:\", ratings_train.shape)"
      ],
      "execution_count": null,
      "outputs": [
        {
          "output_type": "stream",
          "text": [
            "Ratings: (90266, 4)\n"
          ],
          "name": "stdout"
        }
      ]
    },
    {
      "cell_type": "markdown",
      "metadata": {
        "id": "xYgcd-qg3HAe"
      },
      "source": [
        "Create sequences of movies watched by the users for both train and val set if rating >= 4"
      ]
    },
    {
      "cell_type": "code",
      "metadata": {
        "colab": {
          "base_uri": "https://localhost:8080/"
        },
        "id": "gO1OuoaV4hW2",
        "outputId": "6524c707-34ea-45aa-d6a3-fd8329d9327f"
      },
      "source": [
        "# list to capture movies watched by users for training\r\n",
        "watched_train = []\r\n",
        "\r\n",
        "# populate the list with movieIDs\r\n",
        "for i in tqdm(users_train, position=0, leave=True):\r\n",
        "  temp = ratings_train[(ratings_train['userId'] == i) & (ratings_train['rating'] >= 4)]['movieId'].tolist()\r\n",
        "  # is shuffling needed to separate movies from those around similar release years?\r\n",
        "  # random.shuffle(temp)\r\n",
        "  watched_train.append(temp)\r\n",
        "\r\n",
        "# list to capture movies watched by users for validation\r\n",
        "watched_val = []\r\n",
        "\r\n",
        "# populate the list with movieIDs\r\n",
        "for i in tqdm(ratings_val['userId'].unique(), position=0, leave=True):\r\n",
        "  temp = ratings_val[ratings_val['userId'] == i]['movieId'].tolist()\r\n",
        "  watched_val.append(temp)"
      ],
      "execution_count": null,
      "outputs": [
        {
          "output_type": "stream",
          "text": [
            "100%|██████████| 549/549 [00:00<00:00, 586.24it/s]\n",
            "100%|██████████| 61/61 [00:00<00:00, 1286.98it/s]\n"
          ],
          "name": "stderr"
        }
      ]
    },
    {
      "cell_type": "markdown",
      "metadata": {
        "id": "ANtwSQI55KPs"
      },
      "source": [
        "## Building Word2vec Embeddings"
      ]
    },
    {
      "cell_type": "code",
      "metadata": {
        "id": "qmBQzfTG6Tux"
      },
      "source": [
        "# train word2vec model\r\n",
        "model = Word2Vec(sentences=watched_train,\r\n",
        "                 iter = 5,\r\n",
        "                 min_count = 5,\r\n",
        "                 sg = 1, # using skip-gram so 1\r\n",
        "                 hs = 0, # using negative sampling\r\n",
        "                 negative = 5, # for negative sampling\r\n",
        "                 alpha=0.03, \r\n",
        "                 min_alpha=0.0007,\r\n",
        "                 seed = 14,\r\n",
        "                 window = 9999999)  # large window size as used in item2vec"
      ],
      "execution_count": null,
      "outputs": []
    },
    {
      "cell_type": "code",
      "metadata": {
        "id": "kFh2Jzth6cvv"
      },
      "source": [
        "# Since we are not planning to train the model any further, we are calling init_sims( ) here. This will make the model much more memory-efficient\r\n",
        "model.init_sims(replace=True)"
      ],
      "execution_count": null,
      "outputs": []
    },
    {
      "cell_type": "code",
      "metadata": {
        "colab": {
          "base_uri": "https://localhost:8080/"
        },
        "id": "AhxCmNEX67mh",
        "outputId": "e947c556-e8ad-4ab0-b362-ebbd019144a4"
      },
      "source": [
        "print(model)"
      ],
      "execution_count": null,
      "outputs": [
        {
          "output_type": "stream",
          "text": [
            "Word2Vec(vocab=1816, size=100, alpha=0.03)\n"
          ],
          "name": "stdout"
        }
      ]
    },
    {
      "cell_type": "markdown",
      "metadata": {
        "id": "lHY51cBn7Cpn"
      },
      "source": [
        "## Start Recommendation"
      ]
    },
    {
      "cell_type": "code",
      "metadata": {
        "id": "mcfgJwGL7LJJ",
        "colab": {
          "base_uri": "https://localhost:8080/"
        },
        "outputId": "c58f5350-f27b-4d35-a958-e5aea095380f"
      },
      "source": [
        "# creating a dict to map movie names to IDs\r\n",
        "reference = ratings_train['movieId'].unique().tolist()\r\n",
        "reference_dict = defaultdict(list)\r\n",
        "for i in tqdm(reference, position=0, leave=True):\r\n",
        "  movie_title = movies_df[movies_df['movieId'] == int(i)]['title'].tolist()[0]\r\n",
        "  movie_name = movie_title.split('(')[0].strip().lower()\r\n",
        "  reference_dict[i] = [movie_title, movie_name]"
      ],
      "execution_count": null,
      "outputs": [
        {
          "output_type": "stream",
          "text": [
            "100%|██████████| 9035/9035 [00:05<00:00, 1688.00it/s]\n"
          ],
          "name": "stderr"
        }
      ]
    },
    {
      "cell_type": "code",
      "metadata": {
        "id": "30I1wp8FFT5X"
      },
      "source": [
        "def get_movie_id(d, val):\r\n",
        "  # get movie ID from given movie name\r\n",
        "  for k, v in d.items():\r\n",
        "    if v[1] == val:\r\n",
        "      return k\r\n",
        "  return None"
      ],
      "execution_count": null,
      "outputs": []
    },
    {
      "cell_type": "code",
      "metadata": {
        "colab": {
          "base_uri": "https://localhost:8080/"
        },
        "id": "DXit1Uls9ST8",
        "outputId": "d77cfcd4-5559-4654-f985-635077d4e741"
      },
      "source": [
        "# testing the dict\r\n",
        "movie_name = 'toy story'\r\n",
        "reference_dict[get_movie_id(reference_dict, movie_name)]"
      ],
      "execution_count": null,
      "outputs": [
        {
          "output_type": "execute_result",
          "data": {
            "text/plain": [
              "['Toy Story (1995)', 'toy story']"
            ]
          },
          "metadata": {
            "tags": []
          },
          "execution_count": 18
        }
      ]
    },
    {
      "cell_type": "code",
      "metadata": {
        "id": "swfqZNZyCh6S"
      },
      "source": [
        "def similar_products(val, n = 10):\r\n",
        "  # get vector for input movie name\r\n",
        "  v = model[str(get_movie_id(reference_dict, val))]\r\n",
        "\r\n",
        "  # extract most similar products for the input vector\r\n",
        "  ms = model.wv.most_similar_cosmul(positive=[v], topn= n+1)[1:]\r\n",
        "\r\n",
        "  # extract name and similarity score of the similar products\r\n",
        "  new_ms = []\r\n",
        "  for j in ms:\r\n",
        "    pair = (reference_dict[j[0]][0], j[1])\r\n",
        "    new_ms.append(pair)\r\n",
        "\r\n",
        "  return new_ms  "
      ],
      "execution_count": null,
      "outputs": []
    },
    {
      "cell_type": "code",
      "metadata": {
        "colab": {
          "base_uri": "https://localhost:8080/"
        },
        "id": "US1NvAPNDDRH",
        "outputId": "5d9f275f-6a6b-4594-de08-4895cd39f7f0"
      },
      "source": [
        "similar_products('iron man')"
      ],
      "execution_count": null,
      "outputs": [
        {
          "output_type": "execute_result",
          "data": {
            "text/plain": [
              "[('Avengers, The (2012)', 0.8827745318412781),\n",
              " ('300 (2007)', 0.8811231851577759),\n",
              " ('Avatar (2009)', 0.8782851099967957),\n",
              " ('Casino Royale (2006)', 0.8634577393531799),\n",
              " ('In Bruges (2008)', 0.861535906791687),\n",
              " ('Toy Story 3 (2010)', 0.8549548983573914),\n",
              " ('Bourne Identity, The (2002)', 0.8530797958374023),\n",
              " ('V for Vendetta (2006)', 0.853043258190155),\n",
              " ('Sin City (2005)', 0.848569393157959),\n",
              " ('Bourne Ultimatum, The (2007)', 0.8467860221862793)]"
            ]
          },
          "metadata": {
            "tags": []
          },
          "execution_count": 25
        }
      ]
    },
    {
      "cell_type": "code",
      "metadata": {
        "id": "Ugb1CAPADFhc"
      },
      "source": [
        ""
      ],
      "execution_count": null,
      "outputs": []
    }
  ]
}