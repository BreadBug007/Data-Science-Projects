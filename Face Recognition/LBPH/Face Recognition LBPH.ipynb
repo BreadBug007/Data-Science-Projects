{
 "cells": [
  {
   "cell_type": "code",
   "execution_count": null,
   "metadata": {},
   "outputs": [],
   "source": [
    "import numpy as np\n",
    "import cv2\n",
    "import os\n",
    "from imutils import paths\n",
    "import pickle"
   ]
  },
  {
   "cell_type": "markdown",
   "metadata": {},
   "source": [
    "### Initializing"
   ]
  },
  {
   "cell_type": "raw",
   "metadata": {},
   "source": [
    "Dataset structure\n",
    "\n",
    "├───testing\n",
    "│   ├───2\n",
    "│   └───3\n",
    "└───training\n",
    "    ├───0\n",
    "    └───1"
   ]
  },
  {
   "cell_type": "code",
   "execution_count": null,
   "metadata": {},
   "outputs": [],
   "source": [
    "training_images = \"dataset/training\"\n",
    "testing_images = \"dataset/testing\""
   ]
  },
  {
   "cell_type": "code",
   "execution_count": null,
   "metadata": {},
   "outputs": [],
   "source": [
    "# The folders are defined as 0 and 1, due to them needing to be integers for the \n",
    "# model required by opencv LBPH classifier\n",
    "# So, we'll define the database here\n",
    "training_database = [\"person_a\", \"person_b\"]\n",
    "testing_database = {'2': 'person_a', '3': 'person_a'}"
   ]
  },
  {
   "cell_type": "code",
   "execution_count": null,
   "metadata": {},
   "outputs": [],
   "source": [
    "def face_detection(image):\n",
    "    image_gray = cv2.cvtColor(image, cv2.COLOR_BGR2GRAY)\n",
    "#     print(image_gray)\n",
    "    haar_classifier = cv2.CascadeClassifier(cv2.data.haarcascades + \"haarcascade_frontalface_default.xml\")\n",
    "    face = haar_classifier.detectMultiScale(image_gray, scaleFactor=1.3, minNeighbors=7)\n",
    "    if len(face) == 0:\n",
    "        return None, None\n",
    "    (x,y,w,h) = face[0]\n",
    "    return image_gray[y:y+w, x:x+h], face[0]"
   ]
  },
  {
   "cell_type": "markdown",
   "metadata": {},
   "source": [
    "### Extracting features"
   ]
  },
  {
   "cell_type": "code",
   "execution_count": null,
   "metadata": {},
   "outputs": [],
   "source": [
    "def prepare_data(data_path):\n",
    "    folders = os.listdir(data_path)\n",
    "    labels = []\n",
    "    faces = []\n",
    "    for folder in folders:\n",
    "        label = int(folder)\n",
    "        training_images_path = data_path + '/' + folder\n",
    "        for image in os.listdir(training_images_path):\n",
    "            image_path = training_images_path + '/' + image\n",
    "            training_image = cv2.imread(image_path)\n",
    "            face, bounding_box = face_detection(training_image)\n",
    "            if face is not None:\n",
    "                faces.append(face)\n",
    "                labels.append(label)\n",
    "\n",
    "    print ('Training Done')\n",
    "    return faces, labels"
   ]
  },
  {
   "cell_type": "code",
   "execution_count": null,
   "metadata": {},
   "outputs": [],
   "source": [
    "faces, labels = prepare_data(training_images)\n",
    "print ('Total faces = ', len(faces))\n",
    "print ('Total labels = ', len(labels))"
   ]
  },
  {
   "cell_type": "code",
   "execution_count": null,
   "metadata": {},
   "outputs": [],
   "source": [
    "model = cv2.face.LBPHFaceRecognizer_create()\n",
    "model.train(faces, np.array(labels))"
   ]
  },
  {
   "cell_type": "markdown",
   "metadata": {},
   "source": [
    "Number of features\n",
    "* Using uniform patterns, the length of the feature vector for a single cell reduces from 256 to 59. The 58 uniform binary patterns correspond to the integers 0, 1, 2, 3, 4, 6, 7, 8, 12, 14, 15, 16, 24, 28, 30, 31, 32, 48, 56, 60, 62, 63, 64, 96, 112, 120, 124, 126, 127, 128, 129, 131, 135, 143, 159, 191, 192, 193, 195, 199, 207, 223, 224, 225, 227, 231, 239, 240, 241, 243, 247, 248, 249, 251, 252, 253, 254 and 255"
   ]
  },
  {
   "cell_type": "code",
   "execution_count": null,
   "metadata": {},
   "outputs": [],
   "source": [
    "# Saving the model\n",
    "filename = \"lbph_model.yml\"\n",
    "model.write(filename)"
   ]
  },
  {
   "cell_type": "markdown",
   "metadata": {},
   "source": [
    "### Face Recognition"
   ]
  },
  {
   "cell_type": "code",
   "execution_count": null,
   "metadata": {},
   "outputs": [],
   "source": [
    "# Loading the model\n",
    "model = cv2.face.LBPHFaceRecognizer_create()\n",
    "filename = \"lbph_model.yml\"\n",
    "model.read(filename)"
   ]
  },
  {
   "cell_type": "code",
   "execution_count": null,
   "metadata": {},
   "outputs": [],
   "source": [
    "def predict_image(test_image):\n",
    "    img = test_image.copy()\n",
    "    face, bounding_box = face_detection(img)\n",
    "    if face is not None:\n",
    "        label = model.predict(face)\n",
    "        label_text = training_database[label[0]]\n",
    "        return label_text\n",
    "    else:\n",
    "        return None"
   ]
  },
  {
   "cell_type": "code",
   "execution_count": null,
   "metadata": {},
   "outputs": [],
   "source": [
    "prediction_status = {'correct': 0, 'incorrect': 0, 'unidentified': 0}"
   ]
  },
  {
   "cell_type": "code",
   "execution_count": null,
   "metadata": {
    "scrolled": true
   },
   "outputs": [],
   "source": [
    "for imagePath in paths.list_images(testing_images):\n",
    "    # load the image, convert it to grayscale, describe it,\n",
    "    # and classify it\n",
    "    test = cv2.imread(imagePath)\n",
    "    predict = predict_image(test)\n",
    "    actual = testing_database[imagePath.split(os.path.sep)[-2]]\n",
    "    print(f\"Actual label: {actual}, Predicted label: {predict}\")\n",
    "    if predict == actual:\n",
    "        prediction_status['correct'] += 1\n",
    "    elif predict == None:\n",
    "        prediction_status['unidentified'] += 1\n",
    "    elif predict != actual:\n",
    "        prediction_status['incorrect'] += 1"
   ]
  },
  {
   "cell_type": "code",
   "execution_count": null,
   "metadata": {},
   "outputs": [],
   "source": [
    "print(prediction_status)"
   ]
  },
  {
   "cell_type": "code",
   "execution_count": null,
   "metadata": {},
   "outputs": [],
   "source": []
  }
 ],
 "metadata": {
  "kernelspec": {
   "display_name": "Python 3",
   "language": "python",
   "name": "python3"
  },
  "language_info": {
   "codemirror_mode": {
    "name": "ipython",
    "version": 3
   },
   "file_extension": ".py",
   "mimetype": "text/x-python",
   "name": "python",
   "nbconvert_exporter": "python",
   "pygments_lexer": "ipython3",
   "version": "3.7.9"
  }
 },
 "nbformat": 4,
 "nbformat_minor": 4
}
